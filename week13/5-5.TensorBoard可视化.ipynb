{
 "cells": [
  {
   "cell_type": "markdown",
   "metadata": {},
   "source": [
    "# 5-4 TensorBoard可视化"
   ]
  },
  {
   "cell_type": "markdown",
   "metadata": {},
   "source": [
    "在我们的炼丹过程中，如果能够使用丰富的图像来展示模型的结构，指标的变化，参数的分布，输入的形态等信息，无疑会提升我们对问题的洞察力，并增加许多炼丹的乐趣。\n",
    "\n",
    "TensorBoard正是这样一个神奇的炼丹可视化辅助工具。它原是TensorFlow的小弟，但它也能够很好地和Pytorch进行配合。甚至在Pytorch中使用TensorBoard比TensorFlow中使用TensorBoard还要来的更加简单和自然。\n",
    "\n",
    "Pytorch中利用TensorBoard可视化的大概过程如下：\n",
    "\n",
    "首先在Pytorch中指定一个目录创建一个torch.utils.tensorboard.SummaryWriter日志写入器。\n",
    "\n",
    "然后根据需要可视化的信息，利用日志写入器将相应信息日志写入我们指定的目录。\n",
    "\n",
    "最后就可以传入日志目录作为参数启动TensorBoard，然后就可以在TensorBoard中愉快地看片了。\n",
    "\n",
    "我们主要介绍Pytorch中利用TensorBoard进行如下方面信息的可视化的方法。\n",
    "\n",
    "* 可视化模型结构： writer.add_graph\n",
    "\n",
    "* 可视化指标变化： writer.add_scalar\n",
    "\n",
    "* 可视化参数分布： writer.add_histogram\n",
    "\n",
    "* 可视化原始图像： writer.add_image 或 writer.add_images\n",
    "\n",
    "* 可视化人工绘图： writer.add_figure"
   ]
  },
  {
   "cell_type": "markdown",
   "metadata": {},
   "source": [
    "## 一、可视化模型结构"
   ]
  },
  {
   "cell_type": "code",
   "execution_count": 1,
   "metadata": {},
   "outputs": [],
   "source": [
    "import torch\n",
    "from torch import nn\n",
    "from torch.utils.tensorboard import SummaryWriter\n",
    "from torchkeras import Model, summary"
   ]
  },
  {
   "cell_type": "code",
   "execution_count": 5,
   "metadata": {},
   "outputs": [],
   "source": [
    "class Net(nn.Module):\n",
    "\n",
    "    def __init__(self):\n",
    "        super().__init__()\n",
    "        self.conv1 = nn.Conv2d(in_channels=3, out_channels=32, kernel_size=3)\n",
    "        self.pool = nn.MaxPool2d(kernel_size=2, stride=2)\n",
    "        self.conv2 = nn.Conv2d(in_channels=32, out_channels=64, kernel_size=5)\n",
    "        self.dropout = nn.Dropout(p=0.1)\n",
    "        self.adaptive_pool = nn.AdaptiveMaxPool2d((1, 1))\n",
    "        self.flatten = nn.Flatten()\n",
    "        self.linear1 = nn.Linear(64, 32)\n",
    "        self.relu = nn.ReLU()\n",
    "        self.linear2 = nn.Linear(32, 1)\n",
    "        self.sigmoid = nn.Sigmoid()\n",
    "\n",
    "    def forward(self, x):\n",
    "        x = self.conv1(x)\n",
    "        x = self.pool(x)\n",
    "        x = self.conv2(x)\n",
    "        x = self.dropout(x)\n",
    "        x = self.adaptive_pool(x)\n",
    "        x = self.flatten(x)\n",
    "        x = self.linear1(x)\n",
    "        x = self.relu(x)\n",
    "        x = self.linear2(x)\n",
    "        y = self.sigmoid(x)\n",
    "        return y"
   ]
  },
  {
   "cell_type": "code",
   "execution_count": 6,
   "metadata": {},
   "outputs": [],
   "source": [
    "net = Net()"
   ]
  },
  {
   "cell_type": "code",
   "execution_count": 7,
   "metadata": {},
   "outputs": [
    {
     "name": "stdout",
     "output_type": "stream",
     "text": [
      "----------------------------------------------------------------\n",
      "        Layer (type)               Output Shape         Param #\n",
      "================================================================\n",
      "            Conv2d-1           [-1, 32, 30, 30]             896\n",
      "         MaxPool2d-2           [-1, 32, 15, 15]               0\n",
      "            Conv2d-3           [-1, 64, 11, 11]          51,264\n",
      "           Dropout-4           [-1, 64, 11, 11]               0\n",
      " AdaptiveMaxPool2d-5             [-1, 64, 1, 1]               0\n",
      "           Flatten-6                   [-1, 64]               0\n",
      "            Linear-7                   [-1, 32]           2,080\n",
      "              ReLU-8                   [-1, 32]               0\n",
      "            Linear-9                    [-1, 1]              33\n",
      "          Sigmoid-10                    [-1, 1]               0\n",
      "================================================================\n",
      "Total params: 54,273\n",
      "Trainable params: 54,273\n",
      "Non-trainable params: 0\n",
      "----------------------------------------------------------------\n",
      "Input size (MB): 0.011719\n",
      "Forward/backward pass size (MB): 0.394302\n",
      "Params size (MB): 0.207035\n",
      "Estimated Total Size (MB): 0.613056\n",
      "----------------------------------------------------------------\n"
     ]
    }
   ],
   "source": [
    "summary(net, input_shape=(3, 32, 32))"
   ]
  },
  {
   "cell_type": "code",
   "execution_count": 11,
   "metadata": {},
   "outputs": [],
   "source": [
    "log_dir = \"./log/5_5_tensorboard\"\n",
    "writer = SummaryWriter(log_dir)"
   ]
  },
  {
   "cell_type": "code",
   "execution_count": 12,
   "metadata": {},
   "outputs": [],
   "source": [
    "writer.add_graph(net, input_to_model=torch.rand(1, 3, 32, 32))\n",
    "writer.close()"
   ]
  },
  {
   "cell_type": "code",
   "execution_count": 10,
   "metadata": {},
   "outputs": [
    {
     "data": {
      "text/html": [
       "\n",
       "      <iframe id=\"tensorboard-frame-3f31c64454d3718\" width=\"100%\" height=\"800\" frameborder=\"0\">\n",
       "      </iframe>\n",
       "      <script>\n",
       "        (function() {\n",
       "          const frame = document.getElementById(\"tensorboard-frame-3f31c64454d3718\");\n",
       "          const url = new URL(\"/\", window.location);\n",
       "          const port = 6006;\n",
       "          if (port) {\n",
       "            url.port = port;\n",
       "          }\n",
       "          frame.src = url;\n",
       "        })();\n",
       "      </script>\n",
       "    "
      ],
      "text/plain": [
       "<IPython.core.display.HTML object>"
      ]
     },
     "metadata": {},
     "output_type": "display_data"
    }
   ],
   "source": [
    "# 启动tensorboard\n",
    "%load_ext tensorboard\n",
    "%tensorboard --logdir ./log/5_5_tensorboard"
   ]
  },
  {
   "cell_type": "markdown",
   "metadata": {},
   "source": [
    "## 二、可视化指标变化\n",
    "有时候需要在训练过程中, 实时看到loss和各种metric的变化曲线。\n",
    "\n",
    "注意, writer.add_scalar仅能对标量的值进行可视化。因此它一般用于对loss和metric的变化进行可视化。"
   ]
  },
  {
   "cell_type": "code",
   "execution_count": 13,
   "metadata": {},
   "outputs": [],
   "source": [
    "# f(x) = x**2 - 2*x + 1的最小值\n",
    "x = torch.tensor(0.0, requires_grad=True)\n",
    "a = torch.tensor(1.0)\n",
    "b = torch.tensor(-2.0)\n",
    "c = torch.tensor(1.0)"
   ]
  },
  {
   "cell_type": "code",
   "execution_count": 14,
   "metadata": {},
   "outputs": [],
   "source": [
    "optim = torch.optim.SGD(params=[x], lr = 0.01)\n",
    "\n",
    "def f(x):\n",
    "    return a*x**2 + b*x + c"
   ]
  },
  {
   "cell_type": "code",
   "execution_count": 15,
   "metadata": {},
   "outputs": [
    {
     "name": "stdout",
     "output_type": "stream",
     "text": [
      "y= tensor(0.) ; x= tensor(1.0000)\n"
     ]
    }
   ],
   "source": [
    "for i in range(500):\n",
    "    optim.zero_grad()\n",
    "    y = f(x)\n",
    "    y.backward()\n",
    "    optim.step()\n",
    "    writer.add_scalar(\"x\", x.item(), i)\n",
    "    writer.add_scalar(\"y\", y.item(), i)\n",
    "writer.close()\n",
    "print(\"y=\", f(x).detach(), \";\", \"x=\", x.detach())"
   ]
  },
  {
   "cell_type": "markdown",
   "metadata": {},
   "source": [
    "## 三、可视化参数分布\n",
    "如果需要对模型的参数在训练过程中的变化进行可视化, 可以使用add_histogram。\n",
    "\n",
    "它能够观测张量值分布的直方图随训练步骤变化的趋势。"
   ]
  },
  {
   "cell_type": "code",
   "execution_count": 16,
   "metadata": {},
   "outputs": [],
   "source": [
    "def norm(mean, std):\n",
    "    t = std*torch.randn((100, 20)) + mean\n",
    "    return t\n",
    "\n",
    "for step, mean in enumerate(range(-10, 10, 1)):\n",
    "    w = norm(mean, 1)\n",
    "    writer.add_histogram(\"w\", w, step)\n",
    "    writer.flush()\n",
    "    \n",
    "writer.close()"
   ]
  },
  {
   "cell_type": "markdown",
   "metadata": {},
   "source": [
    "## 四、可视化原始图像\n",
    "如果我们做图像相关任务的时候, 可以将原始图像在tensorboard中进行展示。\n",
    "\n",
    "如果只写入一张图像信息, 可以使用add_image。\n",
    "\n",
    "如果写入多张图像信息, 可以使用add_images\n",
    "\n",
    "也可以用torchvision.utils.make_grid将多个图片拼接成一张, 然后用add_image写入。"
   ]
  },
  {
   "cell_type": "code",
   "execution_count": 25,
   "metadata": {},
   "outputs": [],
   "source": [
    "from torch.utils.data import Dataset,DataLoader\n",
    "from torchvision import transforms,datasets \n",
    "import torchvision"
   ]
  },
  {
   "cell_type": "code",
   "execution_count": 19,
   "metadata": {},
   "outputs": [],
   "source": [
    "transform_train = transforms.Compose([\n",
    "    transforms.ToTensor()\n",
    "])\n",
    "\n",
    "transform_valid = transforms.Compose([\n",
    "    transforms.ToTensor()\n",
    "])"
   ]
  },
  {
   "cell_type": "code",
   "execution_count": 20,
   "metadata": {},
   "outputs": [
    {
     "name": "stdout",
     "output_type": "stream",
     "text": [
      "{'0_airplane': 0, '1_automobile': 1}\n"
     ]
    }
   ],
   "source": [
    "ds_train = datasets.ImageFolder(\"./data/cifar2/train\",\n",
    "                                transform=transform_train,\n",
    "                               target_transform=lambda t: torch.tensor([t]).float())\n",
    "ds_valid = datasets.ImageFolder(\"./data/cifar2/test\",\n",
    "                                transform=transform_valid,\n",
    "                               target_transform=lambda t: torch.tensor([t]).float())\n",
    "print(ds_train.class_to_idx)"
   ]
  },
  {
   "cell_type": "code",
   "execution_count": 21,
   "metadata": {},
   "outputs": [],
   "source": [
    "dl_train = DataLoader(ds_train, batch_size=8, shuffle=True, num_workers=1)\n",
    "dl_valid = DataLoader(ds_valid, batch_size=8, shuffle=True, num_workers=1)"
   ]
  },
  {
   "cell_type": "code",
   "execution_count": 22,
   "metadata": {},
   "outputs": [],
   "source": [
    "images, labels = next(iter(dl_train))"
   ]
  },
  {
   "cell_type": "code",
   "execution_count": 23,
   "metadata": {},
   "outputs": [],
   "source": [
    "# 仅看一张图片\n",
    "writer.add_image(\"images[0]\", images[0])\n",
    "writer.close()"
   ]
  },
  {
   "cell_type": "code",
   "execution_count": 26,
   "metadata": {},
   "outputs": [],
   "source": [
    "# 将多张图片拼接为一张图片\n",
    "img_grid = torchvision.utils.make_grid(images)\n",
    "writer.add_image(\"image_grid\", img_grid)\n",
    "writer.close()"
   ]
  },
  {
   "cell_type": "markdown",
   "metadata": {},
   "source": [
    "## 五、可视化人工绘图\n",
    "如果我们将matplotlib绘图的结果在tensorboard中展示, 可以使用add_figure"
   ]
  },
  {
   "cell_type": "code",
   "execution_count": 30,
   "metadata": {},
   "outputs": [
    {
     "data": {
      "image/png": "[encoded data removed]",
      "text/plain": [
       "<Figure size 576x576 with 9 Axes>"
      ]
     },
     "metadata": {},
     "output_type": "display_data"
    }
   ],
   "source": [
    "from matplotlib import pyplot as plt\n",
    "\n",
    "figure = plt.figure(figsize=(8, 8))\n",
    "\n",
    "for i in range(9):\n",
    "    img, label = ds_train[i]\n",
    "    img = img.permute(1, 2, 0)\n",
    "    ax = plt.subplot(3, 3, i+1)\n",
    "    ax.imshow(img.numpy())\n",
    "    ax.set_title(\"label = {:d}\".format(int(label.item())))\n",
    "    ax.set_xticks([])\n",
    "    ax.set_yticks([])\n",
    "plt.show()"
   ]
  },
  {
   "cell_type": "code",
   "execution_count": 33,
   "metadata": {},
   "outputs": [],
   "source": [
    "writer.add_figure(\"figure\", figure, global_step=1)\n",
    "writer.close()"
   ]
  },
  {
   "cell_type": "code",
   "execution_count": null,
   "metadata": {},
   "outputs": [],
   "source": []
  }
 ],
 "metadata": {
  "kernelspec": {
   "display_name": "pytorch1.6",
   "language": "python",
   "name": "pytorch1.6"
  },
  "language_info": {
   "codemirror_mode": {
    "name": "ipython",
    "version": 3
   },
   "file_extension": ".py",
   "mimetype": "text/x-python",
   "name": "python",
   "nbconvert_exporter": "python",
   "pygments_lexer": "ipython3",
   "version": "3.7.0"
  }
 },
 "nbformat": 4,
 "nbformat_minor": 2
}
