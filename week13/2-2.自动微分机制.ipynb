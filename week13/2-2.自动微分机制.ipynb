{
 "metadata": {
  "language_info": {
   "codemirror_mode": {
    "name": "ipython",
    "version": 3
   },
   "file_extension": ".py",
   "mimetype": "text/x-python",
   "name": "python",
   "nbconvert_exporter": "python",
   "pygments_lexer": "ipython3",
   "version": "3.7.0-final"
  },
  "orig_nbformat": 2,
  "kernelspec": {
   "name": "python_defaultSpec_1600326297258",
   "display_name": "Python 3.7.0 64-bit ('pytorch1.6': conda)"
  }
 },
 "nbformat": 4,
 "nbformat_minor": 2,
 "cells": [
  {
   "source": [
    "# 2-2 自动微分机制\n",
    "神经网络通常依赖反向传播求梯度来更新网络参数, 求梯度过程通常是一件复杂而容易出错的事情。\n",
    "\n",
    "而深度学习框架可以帮助我们自动完成这种求梯度运算。\n",
    "\n",
    "Pytorch一般通过反向传播backward方法, 实现这种求梯度计算。该方法求得的梯度将存在对应自变量张量的grad属性下。\n",
    "\n",
    "除此之外, 也能调用torch.autograd.grad函数实现梯度计算。"
   ],
   "cell_type": "markdown",
   "metadata": {}
  },
  {
   "source": [
    "## 一、利用backward方法求导数\n",
    "backward方法通常在一个标量张量上调用, 该方法求得的梯度将存在对应自变量张量的grad属性下。\n",
    "\n",
    "如果调用的张量非标量, 则要传入一个和它形状相同的gradient参数张量。\n",
    "\n",
    "相当于用该gradient参数张量与调用张量作向量点乘法, 得到的标量结果再反向传播。因为如果结果也是向量, 那么向量对向量求导就会得到雅各比矩阵。\n",
    "\n",
    "********************************************\n",
    "这里需要说明一下的是, 只有张量同时满足叶张量和require_grad为True时才会在反向传播的时候自动填充grad, 如果想要对非叶张量求梯度, 那么就需要使用retain_grad()"
   ],
   "cell_type": "markdown",
   "metadata": {}
  },
  {
   "source": [
    "### 1.标量的反向传播"
   ],
   "cell_type": "markdown",
   "metadata": {}
  },
  {
   "cell_type": "code",
   "execution_count": 1,
   "metadata": {},
   "outputs": [],
   "source": [
    "import numpy as np\n",
    "import torch"
   ]
  },
  {
   "cell_type": "code",
   "execution_count": 2,
   "metadata": {
    "tags": []
   },
   "outputs": [
    {
     "output_type": "stream",
     "name": "stdout",
     "text": "tensor(-2.)\nNone\n"
    }
   ],
   "source": [
    "# 求 f(x) = a*x**2 + b*x + c的导数\n",
    "x = torch.tensor(0.0, requires_grad=True)\n",
    "a = torch.tensor(1.0)\n",
    "b = torch.tensor(-2.0)\n",
    "c = torch.tensor(1.0)\n",
    "y = a*x**2 + b*x + c\n",
    "\n",
    "y.backward()\n",
    "dy_dx = x.grad\n",
    "print(dy_dx)\n",
    "print(a.grad)"
   ]
  },
  {
   "source": [
    "## 2.非标量的反向传播"
   ],
   "cell_type": "markdown",
   "metadata": {}
  },
  {
   "cell_type": "code",
   "execution_count": 3,
   "metadata": {
    "tags": []
   },
   "outputs": [
    {
     "output_type": "stream",
     "name": "stdout",
     "text": "tensor([[-4., -4.],\n        [ 0.,  2.]])\n"
    }
   ],
   "source": [
    "# x需要被求导\n",
    "x = torch.tensor([[0.0, 0.0], [1.0, 2.0]], requires_grad=True)\n",
    "a = torch.tensor(1.0)\n",
    "b = torch.tensor(-2.0)\n",
    "c = torch.tensor(1.0)\n",
    "y = a*x**2 + b*x + c\n",
    "\n",
    "# 非标量反向传播的时候, 需要传入gradient\n",
    "gradient = torch.tensor([[2, 2], [1.0, 1.0]])\n",
    "\n",
    "y.backward(gradient=gradient) \n",
    "print(x.grad)"
   ]
  },
  {
   "source": [
    "### 3.非标量的反向传播可以使用标量的反向传播实现"
   ],
   "cell_type": "markdown",
   "metadata": {}
  },
  {
   "cell_type": "code",
   "execution_count": 4,
   "metadata": {
    "tags": []
   },
   "outputs": [
    {
     "output_type": "stream",
     "name": "stdout",
     "text": "tensor([[-4., -4.],\n        [ 0.,  2.]])\n"
    }
   ],
   "source": [
    "x = torch.tensor([[0.0, 0.0], [1.0, 2.0]], requires_grad=True)\n",
    "a = torch.tensor(1.0)\n",
    "b = torch.tensor(-2.0)\n",
    "c = torch.tensor(1.0)\n",
    "y = a*x**2 + b*x + c\n",
    "\n",
    "gradient = torch.tensor([[2, 2], [1.0, 1.0]])\n",
    "z = torch.sum(y*gradient)\n",
    "z.backward()  # 证明上一个传入gradient后, 将y变成标量使用了求和操作\n",
    "print(x.grad)"
   ]
  },
  {
   "source": [
    "## 二、利用autograd.grad方法求导数"
   ],
   "cell_type": "markdown",
   "metadata": {}
  },
  {
   "cell_type": "code",
   "execution_count": 5,
   "metadata": {
    "tags": []
   },
   "outputs": [
    {
     "output_type": "stream",
     "name": "stdout",
     "text": "<class 'torch.Tensor'>\n<class 'torch.Tensor'>\ntensor(-2.)\n"
    }
   ],
   "source": [
    "x = torch.tensor(0.0, requires_grad=True)\n",
    "a = torch.tensor(1.0)\n",
    "b = torch.tensor(-2.0)\n",
    "c = torch.tensor(1.0)\n",
    "y = a*x**2 + b*x + c\n",
    "\n",
    "# create_graph设置为True, 将允许创建更高阶的导数\n",
    "dy_dx = torch.autograd.grad(y, x, create_graph=True)[0]\n",
    "print(type(dy_dx.data))\n",
    "print(type(dy_dx))\n",
    "print(dy_dx.detach())  # 后面的版本推荐使用detach(), 可以跟踪in-place操作"
   ]
  },
  {
   "cell_type": "code",
   "execution_count": 6,
   "metadata": {
    "tags": []
   },
   "outputs": [
    {
     "output_type": "stream",
     "name": "stdout",
     "text": "tensor(2.) tensor(1.)\ntensor(3.) tensor(2.)\n"
    }
   ],
   "source": [
    "x1 = torch.tensor(1.0,requires_grad = True) # x需要被求导\n",
    "x2 = torch.tensor(2.0,requires_grad = True)\n",
    "\n",
    "y1 = x1*x2\n",
    "y2 = x1+x2\n",
    "\n",
    "# 允许同时对多个自变量求导数\n",
    "(dy1_dx1, dy1_dx2) = torch.autograd.grad(outputs=y1, inputs=[x1, x2], retain_graph=True)\n",
    "print(dy1_dx1, dy1_dx2)\n",
    "\n",
    "# 如果有多个因变量, 相当于把多个因变量的梯度结果求和\n",
    "(dy12_dx1, dy1_dx2) = torch.autograd.grad(outputs=[y1, y2], inputs=[x1, x2])\n",
    "print(dy12_dx1, dy1_dx2)"
   ]
  },
  {
   "source": [
    "## 三、利用自动微分和优化器求最小值"
   ],
   "cell_type": "markdown",
   "metadata": {}
  },
  {
   "cell_type": "code",
   "execution_count": 7,
   "metadata": {
    "tags": []
   },
   "outputs": [
    {
     "output_type": "stream",
     "name": "stdout",
     "text": "y= tensor(0.) ; x= tensor(1.0000)\n"
    }
   ],
   "source": [
    "x = torch.tensor(0.0, requires_grad=True)\n",
    "a = torch.tensor(1.0)\n",
    "b = torch.tensor(-2.0)\n",
    "c = torch.tensor(1.0)\n",
    "\n",
    "optimzer = torch.optim.SGD(params=[x], lr=0.01)\n",
    "\n",
    "def f(x):\n",
    "    result = a*x**2 + b*x + c\n",
    "    return result\n",
    "\n",
    "for i in range(500):\n",
    "    optimzer.zero_grad()\n",
    "    y = f(x)\n",
    "    y.backward()\n",
    "    optimzer.step()\n",
    "\n",
    "print(\"y=\", f(x).detach(), \";\", \"x=\", x.detach())"
   ]
  },
  {
   "source": [
    "## 四、实验"
   ],
   "cell_type": "markdown",
   "metadata": {}
  },
  {
   "cell_type": "code",
   "execution_count": 8,
   "metadata": {
    "tags": []
   },
   "outputs": [
    {
     "output_type": "stream",
     "name": "stdout",
     "text": "第一次x梯度: tensor(-2.)\n第二次x梯度: tensor(-4.)\n"
    }
   ],
   "source": [
    "# 测试optimizer.zero_grad作用和backward积累梯度机制\n",
    "x = torch.tensor(0.0, requires_grad=True)\n",
    "a = torch.tensor(1.0)\n",
    "b = torch.tensor(-2.0)\n",
    "c = torch.tensor(1.0)\n",
    "\n",
    "def f(x):\n",
    "    result = a*x**2 + b*x + c\n",
    "    return result\n",
    "\n",
    "y = f(x)\n",
    "# 第一次backward\n",
    "y.backward(retain_graph=True)\n",
    "print(\"第一次x梯度:\", x.grad)\n",
    "\n",
    "# 第二次backward\n",
    "y.backward()\n",
    "print(\"第二次x梯度:\", x.grad)"
   ]
  },
  {
   "cell_type": "code",
   "execution_count": 9,
   "metadata": {
    "tags": []
   },
   "outputs": [
    {
     "output_type": "stream",
     "name": "stdout",
     "text": "False\nTrue\nNone\n"
    }
   ],
   "source": [
    "# 测试叶张量\n",
    "x = torch.tensor(0.0, requires_grad=True)\n",
    "a = torch.tensor(1.0)\n",
    "b = torch.tensor(-2.0)\n",
    "c = torch.tensor(1.0)\n",
    "y = a*x**2 + b*x + c\n",
    "\n",
    "y.backward()\n",
    "print(a.requires_grad)\n",
    "print(a.is_leaf)\n",
    "print(a.grad)"
   ]
  },
  {
   "cell_type": "code",
   "execution_count": 10,
   "metadata": {
    "tags": []
   },
   "outputs": [
    {
     "output_type": "stream",
     "name": "stdout",
     "text": "tensor(-2.)\nafter detach: tensor(0.)\ntensor(-2.)\n"
    }
   ],
   "source": [
    "# 测试梯度清除和detach\n",
    "x = torch.tensor(0.0, requires_grad=True)\n",
    "a = torch.tensor(1.0)\n",
    "b = torch.tensor(-2.0)\n",
    "c = torch.tensor(1.0)\n",
    "\n",
    "optimzer = torch.optim.SGD(params=[x], lr=0.01)\n",
    "\n",
    "def f(x):\n",
    "    result = a*x**2 + b*x + c\n",
    "    return result\n",
    "\n",
    "for i in range(2):\n",
    "    # 这里需要清除梯度\n",
    "    if x.grad is not None:\n",
    "        l = x.grad.detach_()\n",
    "        x.grad.zero_()\n",
    "        print(\"after detach:\", x.grad)\n",
    "    y = f(x)\n",
    "    y.backward()\n",
    "    print(x.grad)\n",
    "\n",
    "# print(\"y=\", f(x).detach(), \";\", \"x=\", x.detach())"
   ]
  },
  {
   "cell_type": "code",
   "execution_count": 11,
   "metadata": {
    "tags": []
   },
   "outputs": [
    {
     "output_type": "stream",
     "name": "stdout",
     "text": "tensor(2.) None None\ntensor([[2., 2.],\n        [2., 2.]]) None <MulBackward0 object at 0x7f156e8e8438>\ntensor(40.) None <MeanBackward0 object at 0x7f156e8e8550>\n"
    }
   ],
   "source": [
    "input = torch.ones([2, 2], requires_grad=False)\n",
    "w1 = torch.tensor(2.0, requires_grad=True)\n",
    "w2 = torch.tensor(3.0, requires_grad=True)\n",
    "w3 = torch.tensor(4.0, requires_grad=True)\n",
    "\n",
    "l1 = input * w1  # l1不是叶丈量, 但是是requires_grad, 因此其梯度计算完了就会被释放\n",
    "l2 = l1 + w2\n",
    "l3 = l1 * w3\n",
    "l4 = l2 * l3\n",
    "loss = l4.mean()\n",
    "\n",
    "\n",
    "print(w1.data, w1.grad, w1.grad_fn)\n",
    "# tensor(2.) None None\n",
    "\n",
    "print(l1.data, l1.grad, l1.grad_fn)\n",
    "# tensor([[2., 2.],\n",
    "#         [2., 2.]]) None <MulBackward0 object at 0x000001EBE79E6AC8>\n",
    "\n",
    "print(loss.data, loss.grad, loss.grad_fn)\n",
    "# tensor(40.) None <MeanBackward0 object at 0x000001EBE79D8208>"
   ]
  }
 ]
}