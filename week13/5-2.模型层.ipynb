{
 "cells": [
  {
   "cell_type": "markdown",
   "metadata": {},
   "source": [
    "# 5-2 模型层layers\n",
    "深度学习模型一般由各种模型组合而成。\n",
    "\n",
    "toch.nn中内置了非常丰富的各种模型层。它们都属于nn.Module的子类, 具备参数管理的功能。\n",
    "\n",
    "例如：\n",
    "* nn.Linear, nn.Flatten, nn.BatchNorm2d\n",
    "* nn.Conv2d, nn.AvgPool2d, nn.Conv1d, nn.ConvTranspose2d\n",
    "* nn.Embedding, nn.GRU, nn.LSTM\n",
    "* nn.Transformer\n",
    "\n",
    "如果这些内置模型层不能够满足需求, 我们可以通过继承nn.Module基类构建自定义的模型层。\n",
    "\n",
    "实际上, pytorch不区分模型和模型层, 都是通过继承nn.Module进行构建。\n",
    "\n",
    "因此, 我们只要继承nn.Module基类并实现forward方法即可自定义模型层。"
   ]
  },
  {
   "cell_type": "markdown",
   "metadata": {},
   "source": [
    "## 一、内置模型层"
   ]
  },
  {
   "cell_type": "markdown",
   "metadata": {},
   "source": [
    "## 二、自定义模型层"
   ]
  },
  {
   "cell_type": "markdown",
   "metadata": {},
   "source": [
    "如果Pytorch的内置模型层不能够满足需求, 我们也可以通过继承nn.Module基类构建自定义的模型层。\n",
    "\n",
    "实际上, pytorch不区分模型层和模型。"
   ]
  },
  {
   "cell_type": "code",
   "execution_count": 1,
   "metadata": {},
   "outputs": [],
   "source": [
    "import torch\n",
    "from torch import nn\n",
    "import torch.nn.functional as F"
   ]
  },
  {
   "cell_type": "code",
   "execution_count": 2,
   "metadata": {},
   "outputs": [],
   "source": [
    "# 下面仿照源码实现一个Linear层\n",
    "class Linear(nn.Module):\n",
    "    ___constants__ = [\"in_features\", \"out_features\"]\n",
    "    \n",
    "    def __init__(self, in_features, out_features, bias=True):\n",
    "        super().__init__()\n",
    "        self.in_features = in_features\n",
    "        self.out_features = out_features\n",
    "        self.weight = nn.Parameter(torch.Tensor(out_features, in_features))\n",
    "        if bias:\n",
    "            self.bias = nn.Parameter(torch.Tensor(in_features))\n",
    "        else:\n",
    "            self.register_parameter(\"bias\", None)\n",
    "    \n",
    "    def reset_parameter(self):\n",
    "        nn.init.kaiming_uniform_(self.weight, a=math.sqrt(5))\n",
    "        if self.bias is not None:\n",
    "            fan_in, _ = nn.init._calculate_fan_in_and_fan_out\n",
    "            (self.weight)\n",
    "            bound = 1 / math.sqrt(fan_in)\n",
    "            nn.init.uniform_(self.bias, -bound, bound)\n",
    "            \n",
    "    def forward(self, input):\n",
    "        return F.linear(input, self.weight, self.bias)\n",
    "    \n",
    "    def extra_repr(self):\n",
    "        return \"in_features={}, out_features={}, bias={}\".format(\n",
    "            self.in_features, self.out_features, self.bias is not None)"
   ]
  },
  {
   "cell_type": "code",
   "execution_count": 3,
   "metadata": {},
   "outputs": [
    {
     "name": "stdout",
     "output_type": "stream",
     "text": [
      "torch.Size([128, 30])\n"
     ]
    }
   ],
   "source": [
    "linear = nn.Linear(20, 30)\n",
    "inputs = torch.randn(128, 20)\n",
    "output = linear(inputs)\n",
    "print(output.size())"
   ]
  }
 ],
 "metadata": {
  "kernelspec": {
   "display_name": "pytorch1.6",
   "language": "python",
   "name": "pytorch1.6"
  },
  "language_info": {
   "codemirror_mode": {
    "name": "ipython",
    "version": 3
   },
   "file_extension": ".py",
   "mimetype": "text/x-python",
   "name": "python",
   "nbconvert_exporter": "python",
   "pygments_lexer": "ipython3",
   "version": "3.7.0"
  }
 },
 "nbformat": 4,
 "nbformat_minor": 2
}
