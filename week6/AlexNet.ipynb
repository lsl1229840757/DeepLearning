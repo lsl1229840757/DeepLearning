{
 "cells": [
  {
   "cell_type": "markdown",
   "metadata": {},
   "source": [
    "# AlexNet"
   ]
  },
  {
   "cell_type": "markdown",
   "metadata": {},
   "source": [
    "## 1 构建AlexNet网络结构\n",
    "这里使用Keras构建AlexNet"
   ]
  },
  {
   "cell_type": "code",
   "execution_count": 1,
   "metadata": {},
   "outputs": [],
   "source": [
    "import tensorflow as tf\n",
    "from tensorflow.keras import Sequential, layers, Model, models\n",
    "from matplotlib import pyplot as plt\n",
    "from tensorflow.keras import regularizers\n",
    "%matplotlib inline"
   ]
  },
  {
   "cell_type": "code",
   "execution_count": 2,
   "metadata": {},
   "outputs": [],
   "source": [
    "##列出你所有的物理GPU\n",
    "gpus = tf.config.experimental.list_physical_devices('GPU')\n",
    "for gpu in gpus:\n",
    "    tf.config.experimental.set_memory_growth(gpu, True)"
   ]
  },
  {
   "cell_type": "code",
   "execution_count": 3,
   "metadata": {},
   "outputs": [],
   "source": [
    "# 切换为cpu模式\n",
    "# import os\n",
    "# os.environ[\"CUDA_VISIBLE_DEVICES\"] = \"-1\""
   ]
  },
  {
   "cell_type": "code",
   "execution_count": 4,
   "metadata": {},
   "outputs": [
    {
     "name": "stdout",
     "output_type": "stream",
     "text": [
      "WARNING:tensorflow:From <ipython-input-4-44c369db8091>:1: is_gpu_available (from tensorflow.python.framework.test_util) is deprecated and will be removed in a future version.\n",
      "Instructions for updating:\n",
      "Use `tf.config.list_physical_devices('GPU')` instead.\n",
      "True\n"
     ]
    }
   ],
   "source": [
    "print(tf.test.is_gpu_available())"
   ]
  },
  {
   "cell_type": "code",
   "execution_count": 5,
   "metadata": {},
   "outputs": [],
   "source": [
    "tf.keras.backend.clear_session()\n",
    "\n",
    "class AlexNet(Model):\n",
    "    def __init__(self):\n",
    "        '''\n",
    "            模型要求输入的数据格式channel last, 考虑本地电脑性能问题, 在这里微调AlexNet使其可以输入32*32的图片, 由于微调结构只有一个输出Dense,\n",
    "            所以用正则化惩罚项代替原文的dropout以缓解过拟合问题。\n",
    "        '''\n",
    "        super(AlexNet, self).__init__()\n",
    "        ####################### stack 1 start ###################################################################\n",
    "        self.conv_1 = layers.Conv2D(96, kernel_size = (11, 11), strides = (4, 4), padding = \"same\")\n",
    "        self.a_1 = layers.Activation('relu')\n",
    "        self.pool_1 = layers.MaxPool2D(pool_size = (3, 3), strides = (2, 2), padding = \"same\")\n",
    "        self.bn_1 = layers.BatchNormalization()  # vgg那篇论文指出LRN层没有太大用, 所以这里改成BatchNormalization\n",
    "        ####################### stack 1 end ###################################################################\n",
    "        \n",
    "        ####################### stack 2 start ###################################################################\n",
    "        self.conv_2 = layers.Conv2D(256, kernel_size = (5, 5), padding = 'same', kernel_regularizer=regularizers.l2(0.001))\n",
    "        self.a_2 = layers.Activation('relu')\n",
    "        self.pool_2 = layers.MaxPool2D(pool_size = (3, 3), strides = (2, 2), padding = \"same\")\n",
    "        self.bn_2 = layers.BatchNormalization()\n",
    "        ####################### stack 2 end ###################################################################\n",
    "        \n",
    "        ####################### stack 3 start ###################################################################\n",
    "        self.conv_3 = layers.Conv2D(384, kernel_size = (3, 3), padding = 'same')\n",
    "        self.a_3 = layers.Activation('relu')\n",
    "        self.conv_4 = layers.Conv2D(384, kernel_size = (3, 3), padding = 'same')\n",
    "        self.a_4 = layers.Activation('relu')\n",
    "        self.conv_5 = layers.Conv2D(384, kernel_size = (3, 3), padding = 'same', kernel_regularizer=regularizers.l2(0.001))\n",
    "        self.a_5 = layers.Activation('relu')\n",
    "        self.pool_5 = layers.MaxPool2D(pool_size = (3, 3), strides = (2, 2), padding = \"same\")\n",
    "        ####################### stack 3 end ###################################################################\n",
    "        \n",
    "        ####################### stack 4 start ###################################################################\n",
    "        self.flatten_1 = layers.Flatten()\n",
    "#         self.fc_6 = layers.Dense(4096, activation = \"relu\")\n",
    "        self.pred = layers.Dense(10, activation = \"softmax\")  # R-CNN论文中fc7去掉了之后, 再不fine-tuning的情况下, 效果还好一点, 所以这里也去掉fc7\n",
    "        ####################### stack 4 end ###################################################################\n",
    "    \n",
    "    def call(self, inputs):\n",
    "        '''\n",
    "          TODO: 研究一下Python的语法, 这里应该是可以通过反射重构的\n",
    "        '''\n",
    "        x = self.conv_1(inputs)\n",
    "        x = self.a_1(x)\n",
    "        x = self.pool_1(x)\n",
    "        x = self.bn_1(x)\n",
    "\n",
    "        x = self.conv_2(x)\n",
    "        x = self.a_2(x)\n",
    "        x = self.pool_2(x)\n",
    "        x = self.bn_2(x)\n",
    "        \n",
    "        x = self.conv_3(x)\n",
    "        x = self.a_3(x)\n",
    "        x = self.conv_4(x)\n",
    "        x = self.a_4(x)\n",
    "        x = self.conv_5(x)\n",
    "        x = self.a_5(x)\n",
    "        x = self.pool_5(x)\n",
    "        \n",
    "        x = self.flatten_1(x)\n",
    "      # x = self.fc_6(x)\n",
    "        x = self.pred(x)\n",
    "        return x"
   ]
  },
  {
   "cell_type": "markdown",
   "metadata": {},
   "source": [
    "## 2 构建数据集\n",
    "使用cifar100"
   ]
  },
  {
   "cell_type": "markdown",
   "metadata": {},
   "source": [
    "### 2.1 使用Python内置函数pickle\n",
    "cifar10官方建议使用pickle模块的unpickle来实现反序列话, 但是由于TensorFlow的Dataset的流式编程, 传入的都是Tensor对象， 并且是懒执行的, 所以不能直接将pickle与Data整合。\n",
    "\n",
    "这里的解决方式就是先使用unpickle把所有的数据全部载入内存之中, 再利用Dataset的from_tensor_slices构建数据集。不过这种方法会将所有的数据一次性载入内存, 不适合大数据集。"
   ]
  },
  {
   "cell_type": "code",
   "execution_count": 6,
   "metadata": {},
   "outputs": [],
   "source": [
    "def unpickle(file):\n",
    "    import pickle\n",
    "    with open(file, 'rb') as fo:\n",
    "        res = pickle.load(fo, encoding='bytes')\n",
    "    return {\"data\": res[b'data'], \"label\": res[b'labels']}"
   ]
  },
  {
   "cell_type": "code",
   "execution_count": 7,
   "metadata": {},
   "outputs": [],
   "source": [
    "dicts = unpickle('./data/cifar-10-batches-py/data_batch_1')"
   ]
  },
  {
   "cell_type": "code",
   "execution_count": 8,
   "metadata": {},
   "outputs": [
    {
     "name": "stdout",
     "output_type": "stream",
     "text": [
      "data\n",
      "label\n"
     ]
    }
   ],
   "source": [
    "for key in dicts:\n",
    "    print(key)"
   ]
  },
  {
   "cell_type": "code",
   "execution_count": 9,
   "metadata": {},
   "outputs": [
    {
     "data": {
      "text/plain": [
       "dtype('uint8')"
      ]
     },
     "execution_count": 9,
     "metadata": {},
     "output_type": "execute_result"
    }
   ],
   "source": [
    "dicts[\"data\"].dtype"
   ]
  },
  {
   "cell_type": "code",
   "execution_count": 10,
   "metadata": {},
   "outputs": [
    {
     "data": {
      "text/plain": [
       "6"
      ]
     },
     "execution_count": 10,
     "metadata": {},
     "output_type": "execute_result"
    }
   ],
   "source": [
    "dicts[\"label\"][0]"
   ]
  },
  {
   "cell_type": "code",
   "execution_count": 11,
   "metadata": {},
   "outputs": [],
   "source": [
    "# 构建数据集\n",
    "def create_dataset(file_path, batch_size = 4):\n",
    "    res = unpickle(file_path)\n",
    "    data = tf.cast(res[\"data\"], dtype = tf.float32)\n",
    "    label = res[\"label\"]\n",
    "    max_num = tf.reduce_max(label) + 1\n",
    "    ds = tf.data.Dataset.from_tensor_slices((data, label))  \\\n",
    "                        .map(lambda data, label: \n",
    "                             (tf.image.resize(tf.transpose(tf.reshape(data, [3, 32, 32]), [1, 2, 0]), [227, 227]),\n",
    "                                  tf.one_hot(label, max_num)),\n",
    "                                            num_parallel_calls = tf.data.experimental.AUTOTUNE)  \\\n",
    "                        .batch(batch_size)  \\\n",
    "                        .prefetch(tf.data.experimental.AUTOTUNE)\n",
    "    return ds"
   ]
  },
  {
   "cell_type": "code",
   "execution_count": 12,
   "metadata": {},
   "outputs": [
    {
     "data": {
      "image/png": "[encoded data removed]",
      "text/plain": [
       "<Figure size 432x288 with 1 Axes>"
      ]
     },
     "metadata": {},
     "output_type": "display_data"
    },
    {
     "name": "stdout",
     "output_type": "stream",
     "text": [
      "(227, 227, 3)\n",
      "tf.Tensor(6, shape=(), dtype=int64)\n"
     ]
    }
   ],
   "source": [
    "ds_train = create_dataset(\"./data/cifar-10-batches-py/data_batch_1\", batch_size = 4)\n",
    "for batch_data, batch_label in ds_train.unbatch().take(1):\n",
    "    plt.imshow(batch_data.numpy().astype(\"int32\"))\n",
    "    plt.show()\n",
    "    print(batch_data.shape)\n",
    "    print(tf.argmax(batch_label))"
   ]
  },
  {
   "cell_type": "markdown",
   "metadata": {},
   "source": [
    "## 2.2 使用二进制读取的方式构造Dataset\n",
    "使用TensorFlow提供的二进制处理API, 来解析数据集。"
   ]
  },
  {
   "cell_type": "code",
   "execution_count": 6,
   "metadata": {},
   "outputs": [],
   "source": [
    "def parse_bin_data(file):\n",
    "    input_bytes = tf.io.read_file(file)\n",
    "    raw_data = tf.reshape(tf.io.decode_raw(input_bytes, \"uint8\"), [10000, 3073])\n",
    "    label, data = tf.split(raw_data, [1, -1], 1)\n",
    "    # 处理data\n",
    "    data = tf.reshape(data, [10000, 3, 32, 32])\n",
    "    data = tf.transpose(data, [0, 2, 3, 1])  # 调整通道顺序 channel last\n",
    "    data = tf.cast(data, tf.float32) / 255.\n",
    "#     data = tf.image.resize(data, [227, 227])  数据量太大\n",
    "    # 处理label为one-hot\n",
    "    label = tf.squeeze(tf.one_hot(label, 10))\n",
    "    return tf.data.Dataset.from_tensor_slices((data, label))"
   ]
  },
  {
   "cell_type": "code",
   "execution_count": 7,
   "metadata": {},
   "outputs": [],
   "source": [
    "def create_dataset_from_bin(dir_, batch_size = 8):\n",
    "    ds = tf.data.Dataset.list_files(dir_)  \\\n",
    "            .interleave(parse_bin_data, num_parallel_calls = tf.data.experimental.AUTOTUNE)  \\\n",
    "            .batch(batch_size)  \\\n",
    "            .prefetch(tf.data.experimental.AUTOTUNE)\n",
    "    return ds"
   ]
  },
  {
   "cell_type": "markdown",
   "metadata": {},
   "source": [
    "### 2.2.1 训练集数据"
   ]
  },
  {
   "cell_type": "code",
   "execution_count": 8,
   "metadata": {},
   "outputs": [],
   "source": [
    "ds_train_bin = create_dataset_from_bin(\"./data/cifar-10-batches-bin/data_*\", 10)"
   ]
  },
  {
   "cell_type": "code",
   "execution_count": 9,
   "metadata": {},
   "outputs": [
    {
     "name": "stdout",
     "output_type": "stream",
     "text": [
      "(32, 32, 3)\n",
      "(10,)\n",
      "tf.Tensor([0. 0. 0. 0. 0. 0. 1. 0. 0. 0.], shape=(10,), dtype=float32)\n"
     ]
    },
    {
     "data": {
      "image/png": "[encoded data removed]",
      "text/plain": [
       "<Figure size 432x288 with 1 Axes>"
      ]
     },
     "metadata": {},
     "output_type": "display_data"
    }
   ],
   "source": [
    "for img, label in ds_train_bin.unbatch().take(1):\n",
    "    print(img.shape)\n",
    "    print(label.shape)\n",
    "    plt.imshow(img.numpy())\n",
    "    print(label)\n",
    "    plt.show()"
   ]
  },
  {
   "cell_type": "markdown",
   "metadata": {},
   "source": [
    "### 2.2.2 测试集数据"
   ]
  },
  {
   "cell_type": "code",
   "execution_count": 10,
   "metadata": {},
   "outputs": [],
   "source": [
    "# 加载测试集数据\n",
    "ds_test_bin = create_dataset_from_bin(\"./data/cifar-10-batches-bin/test_*\", 10)"
   ]
  },
  {
   "cell_type": "code",
   "execution_count": 11,
   "metadata": {},
   "outputs": [
    {
     "name": "stdout",
     "output_type": "stream",
     "text": [
      "(32, 32, 3)\n",
      "(10,)\n",
      "tf.Tensor([0. 0. 0. 1. 0. 0. 0. 0. 0. 0.], shape=(10,), dtype=float32)\n"
     ]
    },
    {
     "data": {
      "image/png": "[encoded data removed]",
      "text/plain": [
       "<Figure size 432x288 with 1 Axes>"
      ]
     },
     "metadata": {},
     "output_type": "display_data"
    }
   ],
   "source": [
    "for img, label in ds_test_bin.unbatch().take(1):\n",
    "    print(img.shape)\n",
    "    print(label.shape)\n",
    "    plt.imshow(img.numpy())\n",
    "    print(label)\n",
    "    plt.show()"
   ]
  },
  {
   "cell_type": "markdown",
   "metadata": {},
   "source": [
    "### 2.2. 验证集\n",
    "保证验证集于测试集同分布, 就从测试集中抽取20%作为验证集"
   ]
  },
  {
   "cell_type": "code",
   "execution_count": 12,
   "metadata": {},
   "outputs": [],
   "source": [
    "ds_val_bin = ds_test_bin.shard(5, 1)"
   ]
  },
  {
   "cell_type": "code",
   "execution_count": 13,
   "metadata": {},
   "outputs": [
    {
     "name": "stdout",
     "output_type": "stream",
     "text": [
      "(32, 32, 3)\n",
      "(10,)\n",
      "tf.Tensor([1. 0. 0. 0. 0. 0. 0. 0. 0. 0.], shape=(10,), dtype=float32)\n"
     ]
    },
    {
     "data": {
      "image/png": "[encoded data removed]",
      "text/plain": [
       "<Figure size 432x288 with 1 Axes>"
      ]
     },
     "metadata": {},
     "output_type": "display_data"
    }
   ],
   "source": [
    "for img, label in ds_val_bin.unbatch().take(1):\n",
    "    print(img.shape)\n",
    "    print(label.shape)\n",
    "    plt.imshow(img.numpy())\n",
    "    print(label)\n",
    "    plt.show()"
   ]
  },
  {
   "cell_type": "markdown",
   "metadata": {},
   "source": [
    "## 3 训练模型"
   ]
  },
  {
   "cell_type": "code",
   "execution_count": 14,
   "metadata": {},
   "outputs": [],
   "source": [
    "tf.keras.backend.clear_session()\n",
    "alex = AlexNet()"
   ]
  },
  {
   "cell_type": "code",
   "execution_count": 15,
   "metadata": {},
   "outputs": [],
   "source": [
    "logdir = 'keras_model_log/'\n",
    "tensorboard_callback = tf.keras.callbacks.TensorBoard(logdir, histogram_freq = 1)\n",
    "reduce_lr = tf.keras.callbacks.ReduceLROnPlateau(monitor='val_accuracy', factor=0.5,\n",
    "                              patience=1, min_lr=0.00001)   # 1个epoch之后还没有精度上升的话就减小一半学习率\n",
    "alex.compile(optimizer = tf.keras.optimizers.Adam(learning_rate=0.001), loss=\"categorical_crossentropy\", metrics=\"accuracy\")"
   ]
  },
  {
   "cell_type": "code",
   "execution_count": 16,
   "metadata": {},
   "outputs": [],
   "source": [
    "alex.build(input_shape=(None, 32, 32, 3))"
   ]
  },
  {
   "cell_type": "code",
   "execution_count": 17,
   "metadata": {},
   "outputs": [
    {
     "name": "stdout",
     "output_type": "stream",
     "text": [
      "Model: \"alex_net\"\n",
      "_________________________________________________________________\n",
      "Layer (type)                 Output Shape              Param #   \n",
      "=================================================================\n",
      "conv2d (Conv2D)              multiple                  34944     \n",
      "_________________________________________________________________\n",
      "activation (Activation)      multiple                  0         \n",
      "_________________________________________________________________\n",
      "max_pooling2d (MaxPooling2D) multiple                  0         \n",
      "_________________________________________________________________\n",
      "batch_normalization (BatchNo multiple                  384       \n",
      "_________________________________________________________________\n",
      "conv2d_1 (Conv2D)            multiple                  614656    \n",
      "_________________________________________________________________\n",
      "activation_1 (Activation)    multiple                  0         \n",
      "_________________________________________________________________\n",
      "max_pooling2d_1 (MaxPooling2 multiple                  0         \n",
      "_________________________________________________________________\n",
      "batch_normalization_1 (Batch multiple                  1024      \n",
      "_________________________________________________________________\n",
      "conv2d_2 (Conv2D)            multiple                  885120    \n",
      "_________________________________________________________________\n",
      "activation_2 (Activation)    multiple                  0         \n",
      "_________________________________________________________________\n",
      "conv2d_3 (Conv2D)            multiple                  1327488   \n",
      "_________________________________________________________________\n",
      "activation_3 (Activation)    multiple                  0         \n",
      "_________________________________________________________________\n",
      "conv2d_4 (Conv2D)            multiple                  1327488   \n",
      "_________________________________________________________________\n",
      "activation_4 (Activation)    multiple                  0         \n",
      "_________________________________________________________________\n",
      "max_pooling2d_2 (MaxPooling2 multiple                  0         \n",
      "_________________________________________________________________\n",
      "flatten (Flatten)            multiple                  0         \n",
      "_________________________________________________________________\n",
      "dense (Dense)                multiple                  3850      \n",
      "=================================================================\n",
      "Total params: 4,194,954\n",
      "Trainable params: 4,194,250\n",
      "Non-trainable params: 704\n",
      "_________________________________________________________________\n"
     ]
    }
   ],
   "source": [
    "alex.summary()"
   ]
  },
  {
   "cell_type": "code",
   "execution_count": 18,
   "metadata": {},
   "outputs": [
    {
     "name": "stdout",
     "output_type": "stream",
     "text": [
      "Epoch 1/10\n",
      "      2/Unknown - 0s 173ms/step - loss: 2.9406 - accuracy: 0.1500WARNING:tensorflow:Method (on_train_batch_end) is slow compared to the batch update (0.175686). Check your callbacks.\n",
      "5000/5000 [==============================] - 89s 18ms/step - loss: 1.8641 - accuracy: 0.3647 - val_loss: 1.6343 - val_accuracy: 0.4495 - lr: 0.0010\n",
      "Epoch 2/10\n",
      "5000/5000 [==============================] - 88s 18ms/step - loss: 1.5733 - accuracy: 0.4870 - val_loss: 1.4933 - val_accuracy: 0.5225 - lr: 0.0010\n",
      "Epoch 3/10\n",
      "5000/5000 [==============================] - 89s 18ms/step - loss: 1.4668 - accuracy: 0.5346 - val_loss: 1.4205 - val_accuracy: 0.5480 - lr: 0.0010\n",
      "Epoch 4/10\n",
      "5000/5000 [==============================] - 89s 18ms/step - loss: 1.3786 - accuracy: 0.5671 - val_loss: 1.4456 - val_accuracy: 0.5465 - lr: 0.0010\n",
      "Epoch 5/10\n",
      "5000/5000 [==============================] - 88s 18ms/step - loss: 1.1882 - accuracy: 0.6286 - val_loss: 1.2621 - val_accuracy: 0.6020 - lr: 5.0000e-04\n",
      "Epoch 6/10\n",
      "5000/5000 [==============================] - 87s 17ms/step - loss: 1.0945 - accuracy: 0.6590 - val_loss: 1.2551 - val_accuracy: 0.6055 - lr: 5.0000e-04\n",
      "Epoch 7/10\n",
      "5000/5000 [==============================] - 88s 18ms/step - loss: 1.0524 - accuracy: 0.6784 - val_loss: 1.2219 - val_accuracy: 0.6290 - lr: 5.0000e-04\n",
      "Epoch 8/10\n",
      "5000/5000 [==============================] - 86s 17ms/step - loss: 1.0109 - accuracy: 0.6936 - val_loss: 1.2390 - val_accuracy: 0.6145 - lr: 5.0000e-04\n",
      "Epoch 9/10\n",
      "5000/5000 [==============================] - 86s 17ms/step - loss: 0.8271 - accuracy: 0.7592 - val_loss: 1.3368 - val_accuracy: 0.6275 - lr: 2.5000e-04\n",
      "Epoch 10/10\n",
      "5000/5000 [==============================] - 87s 17ms/step - loss: 0.7021 - accuracy: 0.7997 - val_loss: 1.2940 - val_accuracy: 0.6395 - lr: 1.2500e-04\n"
     ]
    }
   ],
   "source": [
    "# 开始训练模型, 拿测试集的20%用来做validation\n",
    "history = alex.fit(ds_train_bin, callbacks = [tensorboard_callback, reduce_lr], epochs = 10, validation_data = ds_val_bin)"
   ]
  },
  {
   "cell_type": "markdown",
   "metadata": {},
   "source": [
    "## 4 保存模型\n",
    "通过继承Keras.Model的模型是无法直接被save为h5文件的, 这里保存为tensorflow的SavedModel标准格式, 当然也可以只是保存权重后再自己构建网络(save_weights)。\n",
    "\n",
    "pb是protocol（协议） buffer（缓冲）, TensorFlow训练模型后存成的pb文件。"
   ]
  },
  {
   "cell_type": "code",
   "execution_count": 19,
   "metadata": {},
   "outputs": [],
   "source": [
    "model_dir = \"./alexnet_cifar10_10epochs\""
   ]
  },
  {
   "cell_type": "code",
   "execution_count": 20,
   "metadata": {},
   "outputs": [
    {
     "name": "stdout",
     "output_type": "stream",
     "text": [
      "WARNING:tensorflow:From D:\\AnocondaRun\\envs\\tensorflow2_gpu\\lib\\site-packages\\tensorflow\\python\\ops\\resource_variable_ops.py:1817: calling BaseResourceVariable.__init__ (from tensorflow.python.ops.resource_variable_ops) with constraint is deprecated and will be removed in a future version.\n",
      "Instructions for updating:\n",
      "If using Keras pass *_constraint arguments to layers.\n",
      "INFO:tensorflow:Assets written to: ./alexnet_cifar10_10epochs\\assets\n"
     ]
    }
   ],
   "source": [
    "alex.save(model_dir, save_format='tf')"
   ]
  },
  {
   "cell_type": "code",
   "execution_count": 21,
   "metadata": {},
   "outputs": [],
   "source": [
    "# 加载模型\n",
    "model = tf.keras.models.load_model(model_dir)  # 这里不直接使用tf.saved_model.load, 因为这个方法是无法还原出keras对象的。"
   ]
  },
  {
   "cell_type": "code",
   "execution_count": 22,
   "metadata": {},
   "outputs": [
    {
     "name": "stdout",
     "output_type": "stream",
     "text": [
      "1000/1000 [==============================] - 5s 5ms/step - loss: 1.3033 - accuracy: 0.6359\n"
     ]
    },
    {
     "data": {
      "text/plain": [
       "[1.3032766580581665, 0.6359000205993652]"
      ]
     },
     "execution_count": 22,
     "metadata": {},
     "output_type": "execute_result"
    }
   ],
   "source": [
    "model.evaluate(ds_test_bin)"
   ]
  },
  {
   "cell_type": "markdown",
   "metadata": {},
   "source": [
    "## 5 继续数训练模型"
   ]
  },
  {
   "cell_type": "code",
   "execution_count": 23,
   "metadata": {},
   "outputs": [
    {
     "name": "stdout",
     "output_type": "stream",
     "text": [
      "Epoch 1/6\n",
      "      2/Unknown - 0s 145ms/step - loss: 0.7049 - accuracy: 0.8000WARNING:tensorflow:Method (on_train_batch_end) is slow compared to the batch update (0.145433). Check your callbacks.\n",
      "5000/5000 [==============================] - 89s 18ms/step - loss: 0.6162 - accuracy: 0.8298 - val_loss: 1.3480 - val_accuracy: 0.6380 - lr: 1.2500e-04\n",
      "Epoch 2/6\n",
      "5000/5000 [==============================] - 88s 18ms/step - loss: 0.5753 - accuracy: 0.8448 - val_loss: 1.3880 - val_accuracy: 0.6345 - lr: 1.2500e-04\n",
      "Epoch 3/6\n",
      "5000/5000 [==============================] - 88s 18ms/step - loss: 0.4621 - accuracy: 0.8880 - val_loss: 1.5093 - val_accuracy: 0.6430 - lr: 6.2500e-05\n",
      "Epoch 4/6\n",
      "5000/5000 [==============================] - 88s 18ms/step - loss: 0.4589 - accuracy: 0.8856 - val_loss: 1.5160 - val_accuracy: 0.6365 - lr: 6.2500e-05\n",
      "Epoch 5/6\n",
      "5000/5000 [==============================] - 88s 18ms/step - loss: 0.3665 - accuracy: 0.9248 - val_loss: 1.6326 - val_accuracy: 0.6430 - lr: 3.1250e-05\n",
      "Epoch 6/6\n",
      "5000/5000 [==============================] - 89s 18ms/step - loss: 0.3793 - accuracy: 0.9127 - val_loss: 1.6396 - val_accuracy: 0.6455 - lr: 1.5625e-05\n"
     ]
    },
    {
     "data": {
      "text/plain": [
       "<tensorflow.python.keras.callbacks.History at 0x1bd06c99ef0>"
      ]
     },
     "execution_count": 23,
     "metadata": {},
     "output_type": "execute_result"
    }
   ],
   "source": [
    "model.fit(ds_train_bin, callbacks = [tensorboard_callback, reduce_lr], epochs = 6, validation_data = ds_val_bin)"
   ]
  },
  {
   "cell_type": "code",
   "execution_count": 24,
   "metadata": {},
   "outputs": [
    {
     "name": "stdout",
     "output_type": "stream",
     "text": [
      "1000/1000 [==============================] - 5s 5ms/step - loss: 1.6812 - accuracy: 0.6317\n"
     ]
    },
    {
     "data": {
      "text/plain": [
       "[1.6811984777450562, 0.6316999793052673]"
      ]
     },
     "execution_count": 24,
     "metadata": {},
     "output_type": "execute_result"
    }
   ],
   "source": [
    "model.evaluate(ds_test_bin)"
   ]
  },
  {
   "cell_type": "code",
   "execution_count": 25,
   "metadata": {},
   "outputs": [
    {
     "name": "stdout",
     "output_type": "stream",
     "text": [
      "INFO:tensorflow:Assets written to: ./alexnet_cifar10_16·epochs\\assets\n"
     ]
    }
   ],
   "source": [
    "model.save(\"./alexnet_cifar10_16epochs\", save_format='tf')"
   ]
  },
  {
   "cell_type": "markdown",
   "metadata": {},
   "source": [
    "**目前的精度为训练集91%, 测试集为63%**"
   ]
  },
  {
   "cell_type": "markdown",
   "metadata": {},
   "source": [
    "## 6. 更换为SGD精调"
   ]
  },
  {
   "cell_type": "code",
   "execution_count": 26,
   "metadata": {},
   "outputs": [],
   "source": [
    "model.compile(optimizer = tf.keras.optimizers.SGD(learning_rate=0.0001), loss=\"categorical_crossentropy\", metrics=\"accuracy\")"
   ]
  },
  {
   "cell_type": "code",
   "execution_count": 27,
   "metadata": {},
   "outputs": [
    {
     "name": "stdout",
     "output_type": "stream",
     "text": [
      "Epoch 1/2\n",
      "      2/Unknown - 0s 125ms/step - loss: 0.4138 - accuracy: 0.9000WARNING:tensorflow:Method (on_train_batch_end) is slow compared to the batch update (0.124832). Check your callbacks.\n",
      "5000/5000 [==============================] - 85s 17ms/step - loss: 0.3502 - accuracy: 0.9264 - val_loss: 1.6361 - val_accuracy: 0.6410 - lr: 1.0000e-04\n",
      "Epoch 2/2\n",
      "5000/5000 [==============================] - 85s 17ms/step - loss: 0.3444 - accuracy: 0.9286 - val_loss: 1.6351 - val_accuracy: 0.6420 - lr: 1.0000e-04\n"
     ]
    },
    {
     "data": {
      "text/plain": [
       "<tensorflow.python.keras.callbacks.History at 0x1bd080f6828>"
      ]
     },
     "execution_count": 27,
     "metadata": {},
     "output_type": "execute_result"
    }
   ],
   "source": [
    "model.fit(ds_train_bin, callbacks = [tensorboard_callback, reduce_lr], epochs = 2, validation_data = ds_val_bin)"
   ]
  },
  {
   "cell_type": "code",
   "execution_count": 28,
   "metadata": {},
   "outputs": [
    {
     "name": "stdout",
     "output_type": "stream",
     "text": [
      "1000/1000 [==============================] - 5s 5ms/step - loss: 1.6757 - accuracy: 0.6321\n"
     ]
    },
    {
     "data": {
      "text/plain": [
       "[1.6757193803787231, 0.632099986076355]"
      ]
     },
     "execution_count": 28,
     "metadata": {},
     "output_type": "execute_result"
    }
   ],
   "source": [
    "model.evaluate(ds_test_bin)  # 上升了一点点, 但是不明显"
   ]
  },
  {
   "cell_type": "markdown",
   "metadata": {},
   "source": [
    "# 7 数据增强\n",
    "* 随机翻折数据  tf.image.flip_left_right(image)   \n",
    "* 调整数据的饱和度  tf.image.adjust_saturation(image, 3)\n",
    "* 旋转数据90°  tf.image.rot90(image)  这里就不用这个\n",
    "* 改变明度  tf.image.adjust_brightness(image, 0.4)\n",
    "\n",
    "Tensorflow除了提供这些操作的原始实现, 还给了random实现"
   ]
  },
  {
   "cell_type": "code",
   "execution_count": 34,
   "metadata": {},
   "outputs": [],
   "source": [
    "def augment(image, label):\n",
    "    # 数据增强的概率为10%\n",
    "    if tf.random.uniform([1], 0, 1) < 0.1:\n",
    "        image = tf.image.random_flip_left_right(image)\n",
    "        image = tf.image.random_saturation(image, 5, 10)\n",
    "        image = tf.image.random_brightness(image, 0.2)\n",
    "    return (image, label)"
   ]
  },
  {
   "cell_type": "code",
   "execution_count": 35,
   "metadata": {},
   "outputs": [],
   "source": [
    "augmented_train_data = ds_train_bin.map(augment, num_parallel_calls = tf.data.experimental.AUTOTUNE)"
   ]
  },
  {
   "cell_type": "code",
   "execution_count": 36,
   "metadata": {},
   "outputs": [
    {
     "name": "stdout",
     "output_type": "stream",
     "text": [
      "Epoch 1/5\n",
      "      2/Unknown - 0s 108ms/step - loss: 0.4683 - accuracy: 0.9000WARNING:tensorflow:Method (on_train_batch_end) is slow compared to the batch update (0.110796). Check your callbacks.\n",
      "5000/5000 [==============================] - 83s 17ms/step - loss: 0.5308 - accuracy: 0.8838 - val_loss: 1.6042 - val_accuracy: 0.6370 - lr: 1.0000e-04\n",
      "Epoch 2/5\n",
      "5000/5000 [==============================] - 84s 17ms/step - loss: 0.5013 - accuracy: 0.8931 - val_loss: 1.5760 - val_accuracy: 0.6365 - lr: 1.0000e-04\n",
      "Epoch 3/5\n",
      "5000/5000 [==============================] - 84s 17ms/step - loss: 0.4998 - accuracy: 0.8929 - val_loss: 1.5737 - val_accuracy: 0.6365 - lr: 5.0000e-05\n",
      "Epoch 4/5\n",
      "5000/5000 [==============================] - 85s 17ms/step - loss: 0.4803 - accuracy: 0.9000 - val_loss: 1.5449 - val_accuracy: 0.6425 - lr: 2.5000e-05\n",
      "Epoch 5/5\n",
      "5000/5000 [==============================] - 84s 17ms/step - loss: 0.4988 - accuracy: 0.8905 - val_loss: 1.5528 - val_accuracy: 0.6360 - lr: 2.5000e-05\n"
     ]
    },
    {
     "data": {
      "text/plain": [
       "<tensorflow.python.keras.callbacks.History at 0x1bd0c5c8438>"
      ]
     },
     "execution_count": 36,
     "metadata": {},
     "output_type": "execute_result"
    }
   ],
   "source": [
    "model.fit(augmented_train_data, callbacks = [tensorboard_callback, reduce_lr], epochs = 5, validation_data = ds_val_bin)"
   ]
  },
  {
   "cell_type": "code",
   "execution_count": 37,
   "metadata": {},
   "outputs": [
    {
     "name": "stdout",
     "output_type": "stream",
     "text": [
      "1000/1000 [==============================] - 5s 5ms/step - loss: 1.5730 - accuracy: 0.6323\n"
     ]
    },
    {
     "data": {
      "text/plain": [
       "[1.5730010271072388, 0.6323000192642212]"
      ]
     },
     "execution_count": 37,
     "metadata": {},
     "output_type": "execute_result"
    }
   ],
   "source": [
    "model.evaluate(ds_test_bin)  # 提升不明显"
   ]
  },
  {
   "cell_type": "code",
   "execution_count": 38,
   "metadata": {},
   "outputs": [],
   "source": [
    "m = tf.keras.models.load_model(\"./alexnet_cifar10_16epochs\")"
   ]
  },
  {
   "cell_type": "code",
   "execution_count": 39,
   "metadata": {},
   "outputs": [
    {
     "name": "stdout",
     "output_type": "stream",
     "text": [
      "1000/1000 [==============================] - 5s 5ms/step - loss: 1.6812 - accuracy: 0.6317\n"
     ]
    },
    {
     "data": {
      "text/plain": [
       "[1.6811984777450562, 0.6316999793052673]"
      ]
     },
     "execution_count": 39,
     "metadata": {},
     "output_type": "execute_result"
    }
   ],
   "source": [
    "m.evaluate(ds_test_bin)"
   ]
  },
  {
   "cell_type": "code",
   "execution_count": 40,
   "metadata": {},
   "outputs": [
    {
     "name": "stdout",
     "output_type": "stream",
     "text": [
      "5000/5000 [==============================] - 26s 5ms/step - loss: 0.4131 - accuracy: 0.9016\n"
     ]
    },
    {
     "data": {
      "text/plain": [
       "[0.4130837023258209, 0.9016199707984924]"
      ]
     },
     "execution_count": 40,
     "metadata": {},
     "output_type": "execute_result"
    }
   ],
   "source": [
    "m.evaluate(ds_train_bin)"
   ]
  },
  {
   "cell_type": "code",
   "execution_count": 42,
   "metadata": {},
   "outputs": [
    {
     "name": "stdout",
     "output_type": "stream",
     "text": [
      "1000/1000 [==============================] - 5s 5ms/step - loss: 1.5730 - accuracy: 0.6323\n"
     ]
    },
    {
     "data": {
      "text/plain": [
       "[1.5730010271072388, 0.6323000192642212]"
      ]
     },
     "execution_count": 42,
     "metadata": {},
     "output_type": "execute_result"
    }
   ],
   "source": [
    "model.evaluate(ds_test_bin)"
   ]
  },
  {
   "cell_type": "code",
   "execution_count": 41,
   "metadata": {},
   "outputs": [
    {
     "name": "stdout",
     "output_type": "stream",
     "text": [
      "5000/5000 [==============================] - 26s 5ms/step - loss: 0.4055 - accuracy: 0.9027\n"
     ]
    },
    {
     "data": {
      "text/plain": [
       "[0.4054562449455261, 0.9027199745178223]"
      ]
     },
     "execution_count": 41,
     "metadata": {},
     "output_type": "execute_result"
    }
   ],
   "source": [
    "model.evaluate(ds_train_bin)"
   ]
  },
  {
   "cell_type": "markdown",
   "metadata": {},
   "source": [
    "## 8 保存最终版的模型"
   ]
  },
  {
   "cell_type": "code",
   "execution_count": 43,
   "metadata": {},
   "outputs": [
    {
     "name": "stdout",
     "output_type": "stream",
     "text": [
      "INFO:tensorflow:Assets written to: ./alexnet_cifar10_final\\assets\n"
     ]
    }
   ],
   "source": [
    "model.save(\"./alexnet_cifar10_final\", save_format='tf')"
   ]
  },
  {
   "cell_type": "code",
   "execution_count": 44,
   "metadata": {},
   "outputs": [],
   "source": [
    "c = tf.keras.models.load_model(\"./alexnet_cifar10_final\")"
   ]
  },
  {
   "cell_type": "code",
   "execution_count": 45,
   "metadata": {},
   "outputs": [
    {
     "name": "stdout",
     "output_type": "stream",
     "text": [
      "1000/1000 [==============================] - 5s 5ms/step - loss: 1.5730 - accuracy: 0.6323\n"
     ]
    },
    {
     "data": {
      "text/plain": [
       "[1.5730010271072388, 0.6323000192642212]"
      ]
     },
     "execution_count": 45,
     "metadata": {},
     "output_type": "execute_result"
    }
   ],
   "source": [
    "c.evaluate(ds_test_bin)"
   ]
  }
 ],
 "metadata": {
  "kernelspec": {
   "display_name": "Python 3",
   "language": "python",
   "name": "python3"
  },
  "language_info": {
   "codemirror_mode": {
    "name": "ipython",
    "version": 3
   },
   "file_extension": ".py",
   "mimetype": "text/x-python",
   "name": "python",
   "nbconvert_exporter": "python",
   "pygments_lexer": "ipython3",
   "version": "3.6.10"
  }
 },
 "nbformat": 4,
 "nbformat_minor": 2
}
