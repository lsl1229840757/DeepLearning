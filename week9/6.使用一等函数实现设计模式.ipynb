{
 "cells": [
  {
   "cell_type": "markdown",
   "metadata": {},
   "source": [
    "# 第6章 使用一等函数实现设计模式"
   ]
  },
  {
   "cell_type": "markdown",
   "metadata": {},
   "source": [
    "## 6.1 案例分析：重构“策略”模式\n",
    "如果合理利用作为一等对象的函数，某些设计模式可以简化。"
   ]
  },
  {
   "cell_type": "markdown",
   "metadata": {},
   "source": [
    "### 6.1.1 经典的“策略”模式\n",
    "如果不清楚这个模式的话可以自己找一下资料了解。\n",
    "\n",
    "下面是一个电商促销打折的策略模式"
   ]
  },
  {
   "cell_type": "code",
   "execution_count": 6,
   "metadata": {},
   "outputs": [],
   "source": [
    "from abc import ABC, abstractmethod\n",
    "from collections import namedtuple"
   ]
  },
  {
   "cell_type": "code",
   "execution_count": 2,
   "metadata": {},
   "outputs": [],
   "source": [
    "class LineItem(object):  # 一般化的商品类\n",
    "    \n",
    "    def __init__(self, product:str, quantity:int, price:float):\n",
    "        self.product = product\n",
    "        self.quantity = quantity\n",
    "        self.price = price\n",
    "        \n",
    "    def total(self) -> float:\n",
    "        return self.quantity * self.price"
   ]
  },
  {
   "cell_type": "code",
   "execution_count": 15,
   "metadata": {},
   "outputs": [],
   "source": [
    "class Order(object):  # 订单上下文\n",
    "    \n",
    "    def __init__(self, customer, cart, promotion = None):\n",
    "        self.customer = customer\n",
    "        self.cart = cart\n",
    "        self.promotion = promotion\n",
    "        self.__total = None\n",
    "    \n",
    "    @property\n",
    "    def total(self):\n",
    "        \"\"\"计算订单总价格\n",
    "        \"\"\"\n",
    "        total = sum(item.total() for item in self.cart)\n",
    "        self.__total = total\n",
    "        return total\n",
    "\n",
    "    def due(self):\n",
    "        if self.promotion is None:\n",
    "            dicount = 0\n",
    "        else:\n",
    "            discount = self.promotion.discount(self)  # 传入上下文\n",
    "        return self.total - discount\n",
    "    \n",
    "    def __repr__(self):\n",
    "        fmt = \"<Order total {:.2f} due {:.2f}>\"\n",
    "        return fmt.format(self.total, self.due())"
   ]
  },
  {
   "cell_type": "code",
   "execution_count": 7,
   "metadata": {},
   "outputs": [],
   "source": [
    "class Promotion(ABC):  # 抽象基类\n",
    "    \n",
    "    @abstractmethod\n",
    "    def discount(self, order):\n",
    "        pass"
   ]
  },
  {
   "cell_type": "code",
   "execution_count": 8,
   "metadata": {},
   "outputs": [],
   "source": [
    "class FidelityPromo(Promotion):\n",
    "    \n",
    "    def discount(self, order):\n",
    "        \"\"\" 积分超过1000, 提供5%的折扣\n",
    "        \"\"\"\n",
    "        return order.total * 0.05 if order.customer.fidelity >= 1000 else 0"
   ]
  },
  {
   "cell_type": "code",
   "execution_count": 20,
   "metadata": {},
   "outputs": [],
   "source": [
    "class BulkItemPromo(Promotion):\n",
    "    \"\"\"单个商品为20个或以上时提供10%折扣\n",
    "    \"\"\"\n",
    "    \n",
    "    def discount(self, order):\n",
    "        discount = sum(map(lambda item: 0.1 * item.total() if item.quantity >= 20 else 0, order.cart))\n",
    "        return discount"
   ]
  },
  {
   "cell_type": "code",
   "execution_count": 10,
   "metadata": {},
   "outputs": [],
   "source": [
    "class LargeOrderPromo(Promotion):\n",
    "    \"\"\"订单中不同商品达到10或以上提供7%折扣\n",
    "    \"\"\"\n",
    "    \n",
    "    def discount(self, order):\n",
    "        distinct_items = {item.product for item in order.cart}\n",
    "        return order.total * 0.07 if len(distinct_items) >= 10 else 0 "
   ]
  },
  {
   "cell_type": "code",
   "execution_count": 11,
   "metadata": {},
   "outputs": [],
   "source": [
    "# 创建Customer类\n",
    "Customer = namedtuple(\"Customer\", \"name fidelity\")"
   ]
  },
  {
   "cell_type": "code",
   "execution_count": 16,
   "metadata": {},
   "outputs": [
    {
     "data": {
      "text/plain": [
       "<Order total 42.00 due 42.00>"
      ]
     },
     "execution_count": 16,
     "metadata": {},
     "output_type": "execute_result"
    }
   ],
   "source": [
    "joe = Customer(\"John\", 0)\n",
    "ann = Customer(\"ann\", 1100)\n",
    "cart = [LineItem(\"banana\", 4, .5),\n",
    "       LineItem(\"apple\", 10, 1.5),\n",
    "       LineItem(\"watermelon\", 5, 5.0)]\n",
    "# 创建订单\n",
    "o1 = Order(joe, cart, FidelityPromo())\n",
    "o1"
   ]
  },
  {
   "cell_type": "code",
   "execution_count": 18,
   "metadata": {},
   "outputs": [
    {
     "data": {
      "text/plain": [
       "<Order total 42.00 due 39.90>"
      ]
     },
     "execution_count": 18,
     "metadata": {},
     "output_type": "execute_result"
    }
   ],
   "source": [
    "o2 = Order(ann, cart, FidelityPromo())\n",
    "o2"
   ]
  },
  {
   "cell_type": "code",
   "execution_count": 21,
   "metadata": {},
   "outputs": [
    {
     "data": {
      "text/plain": [
       "<Order total 30.00 due 28.50>"
      ]
     },
     "execution_count": 21,
     "metadata": {},
     "output_type": "execute_result"
    }
   ],
   "source": [
    "banana_cart = [LineItem(\"banana\", 30, 0.5),\n",
    "              LineItem(\"apple\", 10, 1.5)]\n",
    "Order(joe, banana_cart, BulkItemPromo())"
   ]
  },
  {
   "cell_type": "code",
   "execution_count": 22,
   "metadata": {},
   "outputs": [
    {
     "data": {
      "text/plain": [
       "<Order total 10.00 due 9.30>"
      ]
     },
     "execution_count": 22,
     "metadata": {},
     "output_type": "execute_result"
    }
   ],
   "source": [
    "long_order = [LineItem(str(item_code), 1, 1.0) for item_code in range(10)]\n",
    "Order(joe, long_order, LargeOrderPromo())"
   ]
  },
  {
   "cell_type": "markdown",
   "metadata": {},
   "source": [
    "从上面这个例子来说, 每一种折扣其实只是实现了一个方法, 所以对于将函数视作一等对象的语言来说, 可以完全不去写那个抽象基类"
   ]
  },
  {
   "cell_type": "code",
   "execution_count": 27,
   "metadata": {},
   "outputs": [],
   "source": [
    "# 看这个例子\n",
    "def fidelity_promo(order):\n",
    "    return order.total * 0.05 if order.customer.fidelity >= 1000 else 0\n",
    "\n",
    "def bulk_item_promo(order):\n",
    "    return sum(map(lambda item: 0.1 * item.total() if item.quantity >= 20 else 0, order.cart))\n",
    "\n",
    "def large_order_promo(order):\n",
    "    distinct_items = {item.product for item in order.cart}\n",
    "    return order.total * 0.07 if len(distinct_items) >= 10 else 0 \n",
    "\n",
    "class Order(object):  # 订单上下文\n",
    "    \n",
    "    def __init__(self, customer, cart, promotion = None):\n",
    "        self.customer = customer\n",
    "        self.cart = cart\n",
    "        self.promotion = promotion\n",
    "        self.__total = None\n",
    "    \n",
    "    @property\n",
    "    def total(self):\n",
    "        \"\"\"计算订单总价格\n",
    "        \"\"\"\n",
    "        total = sum(item.total() for item in self.cart)\n",
    "        self.__total = total\n",
    "        return total\n",
    "\n",
    "    def due(self):\n",
    "        if self.promotion is None:\n",
    "            dicount = 0\n",
    "        else:\n",
    "            discount = self.promotion(self)  # 只需改动这一行\n",
    "        return self.total - discount\n",
    "    \n",
    "    def __repr__(self):\n",
    "        fmt = \"<Order total {:.2f} due {:.2f}>\"\n",
    "        return fmt.format(self.total, self.due())"
   ]
  },
  {
   "cell_type": "markdown",
   "metadata": {},
   "source": [
    "上面这样重构, 除了代码简洁了, 还有就是减少了不必要的对象创建, 让函数成为一个共享元"
   ]
  },
  {
   "cell_type": "code",
   "execution_count": 28,
   "metadata": {},
   "outputs": [
    {
     "data": {
      "text/plain": [
       "<Order total 42.00 due 39.90>"
      ]
     },
     "execution_count": 28,
     "metadata": {},
     "output_type": "execute_result"
    }
   ],
   "source": [
    "Order(ann, cart, fidelity_promo)"
   ]
  },
  {
   "cell_type": "markdown",
   "metadata": {},
   "source": [
    "### 6.1.3 选择最佳策略：简单的方式"
   ]
  },
  {
   "cell_type": "code",
   "execution_count": 29,
   "metadata": {},
   "outputs": [],
   "source": [
    "promos = [fidelity_promo, bulk_item_promo, large_order_promo]\n",
    "def best_promo(order):\n",
    "    \"\"\"选择最大折扣的策略\n",
    "    \"\"\"\n",
    "    return max(promo(order) for promo in promos)"
   ]
  },
  {
   "cell_type": "code",
   "execution_count": 30,
   "metadata": {},
   "outputs": [
    {
     "data": {
      "text/plain": [
       "<Order total 10.00 due 9.30>"
      ]
     },
     "execution_count": 30,
     "metadata": {},
     "output_type": "execute_result"
    }
   ],
   "source": [
    "# 测试\n",
    "Order(joe, long_order, best_promo)"
   ]
  },
  {
   "cell_type": "code",
   "execution_count": 31,
   "metadata": {},
   "outputs": [
    {
     "data": {
      "text/plain": [
       "<Order total 30.00 due 28.50>"
      ]
     },
     "execution_count": 31,
     "metadata": {},
     "output_type": "execute_result"
    }
   ],
   "source": [
    "Order(joe, banana_cart, best_promo)"
   ]
  },
  {
   "cell_type": "code",
   "execution_count": 32,
   "metadata": {},
   "outputs": [
    {
     "data": {
      "text/plain": [
       "<Order total 42.00 due 39.90>"
      ]
     },
     "execution_count": 32,
     "metadata": {},
     "output_type": "execute_result"
    }
   ],
   "source": [
    "Order(ann, cart, best_promo)"
   ]
  },
  {
   "cell_type": "markdown",
   "metadata": {},
   "source": [
    "### 6.1.4 找出模块中的全部策略\n",
    "6.1.3中的例子promos是一个列表, 每次新增加策略的时候如果忘了在promos中添加这个策略, 那么best_promo就不会考虑这个策略。所以, 为了解决这个问\n",
    "\n",
    "题, 我们 需要用到内置函数globals"
   ]
  },
  {
   "cell_type": "code",
   "execution_count": 34,
   "metadata": {},
   "outputs": [],
   "source": [
    "promos = [globals()[name] for name in globals() if name.endswith(\"_promo\") and name != \"best_promo\"]\n",
    "def best_promo(order):\n",
    "    \"\"\"选择最大折扣的策略\n",
    "    \"\"\"\n",
    "    return max(promo(order) for promo in promos)"
   ]
  },
  {
   "cell_type": "markdown",
   "metadata": {},
   "source": [
    "单独从另一个模块(promotions)导入, 需要用到inspect模块\n",
    "```python\n",
    "promos = [func for name, func in inspect.getmembers(promotions, inspect.isfunction)]\n",
    "```"
   ]
  },
  {
   "cell_type": "markdown",
   "metadata": {},
   "source": [
    "## 6.2 命令模式\n",
    "一般命令模式的类一般只有一个方法, 和上面的策略模式差不多, 都可以用函数重构"
   ]
  },
  {
   "cell_type": "code",
   "execution_count": null,
   "metadata": {},
   "outputs": [],
   "source": []
  }
 ],
 "metadata": {
  "kernelspec": {
   "display_name": "tensorflow2",
   "language": "python",
   "name": "tensorflow2"
  },
  "language_info": {
   "codemirror_mode": {
    "name": "ipython",
    "version": 3
   },
   "file_extension": ".py",
   "mimetype": "text/x-python",
   "name": "python",
   "nbconvert_exporter": "python",
   "pygments_lexer": "ipython3",
   "version": "3.6.10"
  }
 },
 "nbformat": 4,
 "nbformat_minor": 2
}
