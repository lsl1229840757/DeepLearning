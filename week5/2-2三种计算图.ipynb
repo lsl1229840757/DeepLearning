{
 "cells": [
  {
   "cell_type": "markdown",
   "metadata": {},
   "source": [
    "# 2-1 三种计算图"
   ]
  },
  {
   "cell_type": "markdown",
   "metadata": {},
   "source": [
    "一般构建计算图的方式有三种：\n",
    "* 静态计算图\n",
    "* 动态计算图\n",
    "* Autograph"
   ]
  },
  {
   "cell_type": "markdown",
   "metadata": {},
   "source": [
    "## 1 计算图特点分析"
   ]
  },
  {
   "cell_type": "markdown",
   "metadata": {},
   "source": [
    "1. 在TensorFlow1.x时代, 采用的是**静态图**, 也就是先需要通过TensorFlow的各种算子构建出图的结构, 然后开启一个Session去执行计算。\n",
    "2. 在TensorFlow2.x时代, 采用的是**动态图**, 也就是使用一个算子之后, 该算子会被动态地加入到计算途中立即执行得到结果。\n",
    "3. 使用动态图, 即Eager Excution的好处就在于方便调试程序, 它让TensorFlow程序与普通的Python变得一模一样。但是, 使用动态图会有多次Python程序和TensorFlow的C++进程之间的通信导致效率低下。\n",
    "4. 如果需要在TensorFlow2.0中使用静态图, 可以使用@tf.function装饰器将普通Python函数转换成对应的TensorFlow计算图构建代码。运行该函数就相当于在TensorFlow1.0中执行Session。而使用@tf.function构建静态图的方式叫做**Autograph**"
   ]
  },
  {
   "cell_type": "markdown",
   "metadata": {},
   "source": [
    "## 2 计算图简介\n",
    "计算图由节点和线组成\n",
    "\n",
    "节点代表操作符Operator, 线表示计算间的依赖\n",
    "\n",
    "实现表示数据传递依赖, 传递的数据就是张量\n",
    "\n",
    "虚线通常表示控制依赖, 即执行的先后顺序"
   ]
  },
  {
   "cell_type": "markdown",
   "metadata": {},
   "source": [
    "## 3 静态计算图构建"
   ]
  },
  {
   "cell_type": "code",
   "execution_count": 1,
   "metadata": {},
   "outputs": [],
   "source": [
    "import tensorflow as tf"
   ]
  },
  {
   "cell_type": "code",
   "execution_count": 4,
   "metadata": {},
   "outputs": [
    {
     "name": "stdout",
     "output_type": "stream",
     "text": [
      "b'hello world'\n"
     ]
    }
   ],
   "source": [
    "# 利用TensorFlow2中compat.v1模块调用Tensorflow1中的静态图\n",
    "g = tf.compat.v1.Graph()\n",
    "with g.as_default():\n",
    "    x = tf.compat.v1.placeholder(name = \"x\", shape = [], dtype = tf.string)\n",
    "    y = tf.compat.v1.placeholder(name = \"y\", shape = [], dtype = tf.string)\n",
    "    z = tf.strings.join([x, y], name = \"join\", separator = \" \")\n",
    "\n",
    "with tf.compat.v1.Session(graph = g) as sess:\n",
    "    result = sess.run(fetches = z, feed_dict = {x: \"hello\", y: \"world\"})\n",
    "    print(result)"
   ]
  },
  {
   "cell_type": "markdown",
   "metadata": {},
   "source": [
    "## 4 构建动态图"
   ]
  },
  {
   "cell_type": "code",
   "execution_count": 6,
   "metadata": {},
   "outputs": [
    {
     "name": "stdout",
     "output_type": "stream",
     "text": [
      "tf.Tensor(b'hello world', shape=(), dtype=string)\n",
      "hello world\n"
     ]
    }
   ],
   "source": [
    "x = tf.constant(\"hello\")\n",
    "y = tf.constant(\"world\")\n",
    "z = tf.strings.join([x, y], separator = \" \")\n",
    "print(z)\n",
    "tf.print(z)"
   ]
  },
  {
   "cell_type": "markdown",
   "metadata": {},
   "source": [
    "## 5 TensorFlow2中的Autograph\n",
    "由于动态图运行效率较低, 可以使用@tf.function将普通的Python函数转换为静态图的构建代码\n",
    "在TensorFlow1中使用计算图分为两步：第一步是定义计算图, 第二步是执行计算图\n",
    "在TensorFlow2中采用Autograph的方式, 第一步定义计算图变成了定义函数, 第二步执行计算图变成了调用函数"
   ]
  },
  {
   "cell_type": "code",
   "execution_count": 8,
   "metadata": {},
   "outputs": [
    {
     "name": "stdout",
     "output_type": "stream",
     "text": [
      "tf.Tensor(b'hello world', shape=(), dtype=string)\n"
     ]
    }
   ],
   "source": [
    "@tf.function\n",
    "def strjoin(x, y):\n",
    "    return tf.strings.join([x, y], separator = \" \")\n",
    "\n",
    "print(strjoin(tf.constant(\"hello\"), tf.constant(\"world\")))"
   ]
  },
  {
   "cell_type": "code",
   "execution_count": 10,
   "metadata": {},
   "outputs": [
    {
     "data": {
      "text/html": [
       "\n",
       "      <iframe id=\"tensorboard-frame-9da64a988607f0b6\" width=\"100%\" height=\"800\" frameborder=\"0\">\n",
       "      </iframe>\n",
       "      <script>\n",
       "        (function() {\n",
       "          const frame = document.getElementById(\"tensorboard-frame-9da64a988607f0b6\");\n",
       "          const url = new URL(\"/\", window.location);\n",
       "          url.port = 6006;\n",
       "          frame.src = url;\n",
       "        })();\n",
       "      </script>\n",
       "  "
      ],
      "text/plain": [
       "<IPython.core.display.HTML object>"
      ]
     },
     "metadata": {},
     "output_type": "display_data"
    }
   ],
   "source": [
    "logdir = \"2-2_autograph_log\"\n",
    "writer = tf.summary.create_file_writer(logdir)\n",
    "# 开启autograph跟踪\n",
    "tf.summary.trace_on(graph = True, profiler = True)\n",
    "# 执行autograph\n",
    "res = strjoin(\"hello\", \"world\")\n",
    "\n",
    "# 把图信息写入日志\n",
    "with writer.as_default():\n",
    "    tf.summary.trace_export(\n",
    "        name = \"autograph\",\n",
    "        step = 0,\n",
    "        profiler_outdir = logdir\n",
    "    )\n",
    "    \n",
    "from tensorboard import notebook\n",
    "notebook.start('--logdir ' + logdir)"
   ]
  },
  {
   "cell_type": "code",
   "execution_count": null,
   "metadata": {},
   "outputs": [],
   "source": []
  }
 ],
 "metadata": {
  "kernelspec": {
   "display_name": "tensorflow2",
   "language": "python",
   "name": "tensorflow2"
  },
  "language_info": {
   "codemirror_mode": {
    "name": "ipython",
    "version": 3
   },
   "file_extension": ".py",
   "mimetype": "text/x-python",
   "name": "python",
   "nbconvert_exporter": "python",
   "pygments_lexer": "ipython3",
   "version": "3.6.10"
  }
 },
 "nbformat": 4,
 "nbformat_minor": 2
}
