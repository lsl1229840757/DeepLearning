{
 "cells": [
  {
   "cell_type": "markdown",
   "metadata": {},
   "source": [
    "# 2-3 自动微分机制"
   ]
  },
  {
   "cell_type": "markdown",
   "metadata": {},
   "source": [
    "神经网络通常依赖反向传播求梯度来更新网络参数, 求梯度的过程又十分复杂且容易出错, 所以TensorFlow这种框架最突出的一个特点就是自动完成求梯度的运算。\n",
    "TensorFlow一般使用梯度磁带tf.GradientType来记录正向运算过程, 然后反向传播得到梯度值。这种利用tf.GradientType求微分的方法叫做Tensorflow的自动微分机制。"
   ]
  },
  {
   "cell_type": "markdown",
   "metadata": {},
   "source": [
    "## 1 利用梯度磁带求导数"
   ]
  },
  {
   "cell_type": "code",
   "execution_count": 1,
   "metadata": {},
   "outputs": [
    {
     "name": "stdout",
     "output_type": "stream",
     "text": [
      "tf.Tensor(-2.0, shape=(), dtype=float32)\n",
      "None\n"
     ]
    }
   ],
   "source": [
    "import tensorflow as tf\n",
    "import numpy as np\n",
    "\n",
    "# 对 y = a*x**2 + b*x + c求导\n",
    "x = tf.Variable(0.0, name = \"x\", dtype = tf.float32)\n",
    "a = tf.constant(1.0, name = \"a\")\n",
    "b = tf.constant(-2.0, name = \"b\")\n",
    "c = tf.constant(1.0, name = \"c\")\n",
    "\n",
    "with tf.GradientTape() as tape:\n",
    "    y = a * x**2 + b * x + c\n",
    "    \n",
    "dy_dx, dy_da = tape.gradient(y, [x, a])\n",
    "print(dy_dx)\n",
    "print(dy_da)"
   ]
  },
  {
   "cell_type": "code",
   "execution_count": 2,
   "metadata": {},
   "outputs": [
    {
     "name": "stdout",
     "output_type": "stream",
     "text": [
      "tf.Tensor(0.0, shape=(), dtype=float32)\n",
      "tf.Tensor(1.0, shape=(), dtype=float32)\n"
     ]
    }
   ],
   "source": [
    "# 如果要对常量进行求导需要添加watch\n",
    "with tf.GradientTape() as tape:\n",
    "    tape.watch([a, b, c])\n",
    "    y = a * x**2 + b * x + c\n",
    "\n",
    "dy_dx, dy_da, dy_db, dy_dc = tape.gradient(y, [x, a, b, c])  # tape.gradient() can only be called once\n",
    "print(dy_da)\n",
    "print(dy_dc)"
   ]
  },
  {
   "cell_type": "code",
   "execution_count": 3,
   "metadata": {},
   "outputs": [
    {
     "name": "stdout",
     "output_type": "stream",
     "text": [
      "tf.Tensor(2.0, shape=(), dtype=float32)\n"
     ]
    }
   ],
   "source": [
    "# 求二阶导数\n",
    "with tf.GradientTape() as tape2:\n",
    "    with tf.GradientTape() as tape1:\n",
    "        y = a * x**2 + b * x + c\n",
    "    dy_dx = tape1.gradient(y, x)\n",
    "dy2_dx2 = tape2.gradient(dy_dx, x)\n",
    "print(dy2_dx2)"
   ]
  },
  {
   "cell_type": "markdown",
   "metadata": {},
   "source": [
    "## 二 利用梯度磁带和最优化器求最小值"
   ]
  },
  {
   "cell_type": "markdown",
   "metadata": {},
   "source": [
    "### 使用optimizer.apply_gradients求最小值"
   ]
  },
  {
   "cell_type": "code",
   "execution_count": 4,
   "metadata": {},
   "outputs": [
    {
     "name": "stdout",
     "output_type": "stream",
     "text": [
      "y =  0 ; x =  0.999998569\n"
     ]
    }
   ],
   "source": [
    "# 求f(x) = a*x**2 + b*x + c的最小值\n",
    "x = tf.Variable(0.0, name = \"x\", dtype = tf.float32)\n",
    "a = tf.constant(1.0, name = \"a\")\n",
    "b = tf.constant(-2.0, name = \"b\")\n",
    "c = tf.constant(1.0, name = \"c\")\n",
    "\n",
    "opt = tf.keras.optimizers.SGD(learning_rate = 0.01)\n",
    "for _ in range(1000):\n",
    "    with tf.GradientTape() as tape:\n",
    "        y = a * x**2 + b * x + c\n",
    "    dy_dx = tape.gradient(y, x)\n",
    "    opt.apply_gradients(grads_and_vars = [(dy_dx, x)])\n",
    "tf.print(\"y = \", y, \"; x = \", x)"
   ]
  },
  {
   "cell_type": "markdown",
   "metadata": {},
   "source": [
    "### 使用optimizer.minimize求最小值"
   ]
  },
  {
   "cell_type": "code",
   "execution_count": 5,
   "metadata": {},
   "outputs": [
    {
     "name": "stdout",
     "output_type": "stream",
     "text": [
      "y =  0 ; x =  0.999998569\n"
     ]
    }
   ],
   "source": [
    "x = tf.Variable(0.0, name = \"x\", dtype = tf.float32)\n",
    "\n",
    "# 因为minimize是一个简单的实现, 所以输入的loss函数不能有参数, 如果要更自定义的操作就需要用gradientTape和apply_gradients\n",
    "def f():\n",
    "    a = tf.constant(1.0, name = \"a\")\n",
    "    b = tf.constant(-2.0, name = \"b\")\n",
    "    c = tf.constant(1.0, name = \"c\")\n",
    "    return a * x**2 + b * x + c\n",
    "\n",
    "opt  = tf.keras.optimizers.SGD(learning_rate = 0.01)\n",
    "\n",
    "for _ in range(1000):\n",
    "    opt.minimize(f, [x])\n",
    "\n",
    "tf.print(\"y = \", f(), \"; x = \", x)"
   ]
  },
  {
   "cell_type": "markdown",
   "metadata": {},
   "source": [
    "### 在AutoGraph中完成最小值求解"
   ]
  },
  {
   "cell_type": "code",
   "execution_count": 6,
   "metadata": {},
   "outputs": [
    {
     "name": "stdout",
     "output_type": "stream",
     "text": [
      "0\n",
      "1.00000083\n"
     ]
    }
   ],
   "source": [
    "# 使用apply_gradients最优化\n",
    "x = tf.Variable(0.0, name = \"x\", dtype = tf.float32)\n",
    "opt = tf.keras.optimizers.Adam(learning_rate = 0.01)\n",
    "\n",
    "@tf.function\n",
    "def minimizef_apply_gradients():\n",
    "    a = tf.constant(1.0, name = \"a\")\n",
    "    b = tf.constant(-2.0, name = \"b\")\n",
    "    c = tf.constant(1.0, name = \"c\")\n",
    "    \n",
    "    for _ in tf.range(1000):  # 注意这里的循环控制需要用tf.range\n",
    "        with tf.GradientTape() as tape:\n",
    "            y = a * x**2 + b * x + c\n",
    "        dy_dx = tape.gradient(y, x)\n",
    "        opt.apply_gradients([(dy_dx, x)])\n",
    "    return a * x**2 + b * x + c  # 返回最优化后的结果\n",
    "\n",
    "tf.print(minimizef_apply_gradients())\n",
    "tf.print(x)"
   ]
  },
  {
   "cell_type": "code",
   "execution_count": 7,
   "metadata": {},
   "outputs": [
    {
     "name": "stdout",
     "output_type": "stream",
     "text": [
      "0.0503761768\n"
     ]
    }
   ],
   "source": [
    "# 使用minimize最优化, 有点慢\n",
    "x = tf.Variable(0.0, name = \"x\", dtype = tf.float32)\n",
    "opt = tf.keras.optimizers.Adam(learning_rate = 0.01)\n",
    "\n",
    "@tf.function\n",
    "def f():\n",
    "    a = tf.constant(1.0, name = \"a\")\n",
    "    b = tf.constant(-2.0, name = \"b\")\n",
    "    c = tf.constant(1.0, name = \"c\")\n",
    "    return a * x**2 + b * x + c\n",
    "\n",
    "@tf.function\n",
    "def minimizef_minimize():\n",
    "    for _ in range(100):\n",
    "        opt.minimize(f, [x])\n",
    "    return f()\n",
    "\n",
    "tf.print(minimizef_minimize())"
   ]
  }
 ],
 "metadata": {
  "kernelspec": {
   "display_name": "tensorflow2",
   "language": "python",
   "name": "tensorflow2"
  },
  "language_info": {
   "codemirror_mode": {
    "name": "ipython",
    "version": 3
   },
   "file_extension": ".py",
   "mimetype": "text/x-python",
   "name": "python",
   "nbconvert_exporter": "python",
   "pygments_lexer": "ipython3",
   "version": "3.6.10"
  }
 },
 "nbformat": 4,
 "nbformat_minor": 2
}
