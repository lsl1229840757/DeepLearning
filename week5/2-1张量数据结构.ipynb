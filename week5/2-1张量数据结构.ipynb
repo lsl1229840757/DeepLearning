{
 "cells": [
  {
   "cell_type": "markdown",
   "metadata": {},
   "source": [
    "# 2-1 张量数据结构"
   ]
  },
  {
   "cell_type": "markdown",
   "metadata": {},
   "source": [
    "TensorFlow之中, 计算图**节点**就是**数学运算**而连接**节点**的边就是 **张量**\n",
    "\n",
    "**TensorFlow程序 = 张量数据结构 + 计算图算法语言**\n",
    "\n",
    "从行为特性上来看, 一般有两种常用的张量:\n",
    "* 常量constant, 不可以在计算图中被重新赋值\n",
    "* 变量Variable, 可以在计算图中用assign等算子重新赋值"
   ]
  },
  {
   "cell_type": "markdown",
   "metadata": {},
   "source": [
    "## 一 常量张量"
   ]
  },
  {
   "cell_type": "code",
   "execution_count": 9,
   "metadata": {},
   "outputs": [
    {
     "name": "stdout",
     "output_type": "stream",
     "text": [
      "True\n",
      "True\n",
      "True\n",
      "False\n",
      "True\n",
      "True\n",
      "True\n",
      "True\n",
      "False\n"
     ]
    }
   ],
   "source": [
    "import numpy as np\n",
    "import tensorflow as tf\n",
    "\n",
    "i = tf.constant(1)  # 默认类型是tf.int32\n",
    "l = tf.constant(1, dtype = tf.int64)\n",
    "f = tf.constant(1.23)  # 默认类型tf.float32\n",
    "d = tf.constant(3.14, dtype = tf.double)\n",
    "s = tf.constant(\"hello world\")  # tf.string类型\n",
    "b = tf.constant(True)  # tf.bool类型\n",
    "\n",
    "print(tf.int64 == np.int64)\n",
    "print(tf.bool == np.bool)\n",
    "print(tf.double == np.float64)\n",
    "print(tf.string == np.unicode)\n",
    "print(tf.float64 == np.float64)\n",
    "print(tf.float64 == tf.double)\n",
    "print(tf.string == np.string_)\n",
    "print(tf.string == np.str_)\n",
    "print(np.string_ == np.str_) # np.str_就是Python内置模块的str, string_是numpy自己的数据结构"
   ]
  },
  {
   "cell_type": "markdown",
   "metadata": {},
   "source": [
    "### 张量维度问题\n",
    "简单总结一下张量的维度就是：有几层中括号就是多少维的张量"
   ]
  },
  {
   "cell_type": "code",
   "execution_count": 17,
   "metadata": {},
   "outputs": [
    {
     "name": "stdout",
     "output_type": "stream",
     "text": [
      "tf.Tensor(1, shape=(), dtype=int32)\n",
      "(4,)\n",
      "1\n",
      "1\n"
     ]
    }
   ],
   "source": [
    "scalar = tf.constant(True)  # 标量就是0维的\n",
    "vector = tf.constant([1.1, 2.0, 3.0, 4.0])  # 向量是1维的\n",
    "matrix = tf.constant([[1, 2], [3, 4]])  # 矩阵是2维的\n",
    "print(tf.rank(vector))\n",
    "print(vector.shape)\n",
    "print(np.ndim(vector))\n",
    "print(np.ndim(vector.numpy()))"
   ]
  },
  {
   "cell_type": "markdown",
   "metadata": {},
   "source": [
    "### 张量类型改变\n",
    "可以使用tf.cast改变张量数据类型：但是不能直接把字符串改成数值类型"
   ]
  },
  {
   "cell_type": "code",
   "execution_count": 20,
   "metadata": {},
   "outputs": [
    {
     "name": "stdout",
     "output_type": "stream",
     "text": [
      "tf.Tensor([123 456], shape=(2,), dtype=int32)\n",
      "tf.Tensor([123. 456.], shape=(2,), dtype=float32)\n"
     ]
    }
   ],
   "source": [
    "h = tf.constant([123, 456])\n",
    "f = tf.cast(h, dtype = tf.float32)\n",
    "print(h)\n",
    "print(f)"
   ]
  },
  {
   "cell_type": "code",
   "execution_count": 30,
   "metadata": {},
   "outputs": [
    {
     "name": "stdout",
     "output_type": "stream",
     "text": [
      "b'\\xe4\\xbd\\xa0\\xe5\\xa5\\xbd'\n",
      "tf.Tensor(b'\\xe4\\xbd\\xa0\\xe5\\xa5\\xbd', shape=(), dtype=string)\n",
      "你好\n",
      "tf.Tensor([20320 22909], shape=(2,), dtype=int32)\n"
     ]
    }
   ],
   "source": [
    "u = tf.constant(\"你好\")\n",
    "print(u.numpy())\n",
    "print(u)\n",
    "print(u.numpy().decode())\n",
    "print(tf.strings.unicode_decode(u, \"utf8\"))  # 解析为unicode的index"
   ]
  },
  {
   "cell_type": "code",
   "execution_count": 31,
   "metadata": {},
   "outputs": [
    {
     "name": "stdout",
     "output_type": "stream",
     "text": [
      "tf.Tensor([111. 222.], shape=(2,), dtype=float32)\n"
     ]
    }
   ],
   "source": [
    "# 把字符串解析为数字\n",
    "s = tf.constant([\"111\", \"222\"], dtype = tf.string)\n",
    "num = tf.strings.to_number(s)  # 解析后默认float32\n",
    "print(num)"
   ]
  },
  {
   "cell_type": "markdown",
   "metadata": {},
   "source": [
    "## 二 变量张量\n",
    "模型中需要被训练的参数一般被设置为变量"
   ]
  },
  {
   "cell_type": "code",
   "execution_count": 36,
   "metadata": {},
   "outputs": [
    {
     "name": "stdout",
     "output_type": "stream",
     "text": [
      "tf.Tensor([1. 2.], shape=(2,), dtype=float32)\n",
      "139643427544928\n",
      "tf.Tensor([2. 4.], shape=(2,), dtype=float32)\n",
      "139643427541400\n"
     ]
    }
   ],
   "source": [
    "# 常量值不可以被改变, 常量的重新赋值相当于创造新的内存空间\n",
    "c = tf.constant([1.0, 2.0])\n",
    "print(c)\n",
    "print(id(c))\n",
    "c = c + tf.constant([1, 2], dtype = tf.float32)\n",
    "print(c)\n",
    "print(id(c))"
   ]
  },
  {
   "cell_type": "code",
   "execution_count": 41,
   "metadata": {},
   "outputs": [
    {
     "name": "stdout",
     "output_type": "stream",
     "text": [
      "<tf.Variable 'v:0' shape=(2,) dtype=float32, numpy=array([1., 2.], dtype=float32)>\n",
      "139643453071488\n",
      "<tf.Variable 'v:0' shape=(2,) dtype=float32, numpy=array([2., 3.], dtype=float32)>\n",
      "139643453071488\n",
      "tf.Tensor([3. 4.], shape=(2,), dtype=float32)\n",
      "139643549758184\n"
     ]
    }
   ],
   "source": [
    "# 变量可以改变, 通过assign, assign_add等方法改变\n",
    "v = tf.Variable([1.0, 2.0], name = \"v\")\n",
    "print(v)\n",
    "print(id(v))\n",
    "\n",
    "v.assign_add([1.0, 1.0])\n",
    "print(v)\n",
    "print(id(v))\n",
    "\n",
    "v = v + tf.Variable([1.0, 1.0])  # 这样直接加就会改变地址\n",
    "print(v)\n",
    "print(id(v))"
   ]
  },
  {
   "cell_type": "code",
   "execution_count": null,
   "metadata": {},
   "outputs": [],
   "source": []
  }
 ],
 "metadata": {
  "kernelspec": {
   "display_name": "tensorflow2",
   "language": "python",
   "name": "tensorflow2"
  },
  "language_info": {
   "codemirror_mode": {
    "name": "ipython",
    "version": 3
   },
   "file_extension": ".py",
   "mimetype": "text/x-python",
   "name": "python",
   "nbconvert_exporter": "python",
   "pygments_lexer": "ipython3",
   "version": "3.6.10"
  }
 },
 "nbformat": 4,
 "nbformat_minor": 2
}
