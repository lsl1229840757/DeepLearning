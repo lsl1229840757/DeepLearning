{
 "cells": [
  {
   "cell_type": "markdown",
   "metadata": {},
   "source": [
    "# 3-2 中阶API示范\n",
    "TensorFlow的中介API主要包括各种模型层, 损失函数, 优化器, 数据管道, 特征列等等"
   ]
  },
  {
   "cell_type": "code",
   "execution_count": 10,
   "metadata": {},
   "outputs": [],
   "source": [
    "import tensorflow as tf\n",
    "from tensorflow.keras import layers, losses, metrics, optimizers\n",
    "import time"
   ]
  },
  {
   "cell_type": "code",
   "execution_count": 26,
   "metadata": {},
   "outputs": [],
   "source": [
    "# 使用中阶段API实现一元线性回归, 并可视化  y = 2x + 3\n",
    "n = 400\n",
    "x = tf.random.uniform([n, 1], minval = -10, maxval = 10)\n",
    "w0 = tf.constant([[2.0]])\n",
    "b0 = tf.constant([[3.0]])\n",
    "y = x @ w0 + b0 + tf.random.normal([n, 1], mean = 0.0, stddev = 2.0)  # 加上正态扰动"
   ]
  },
  {
   "cell_type": "code",
   "execution_count": 27,
   "metadata": {},
   "outputs": [
    {
     "name": "stdout",
     "output_type": "stream",
     "text": [
      "loss:  124.805305\n",
      "loss:  133.69278\n",
      "loss:  120.836296\n",
      "loss:  128.173294\n",
      "loss:  22.1717205\n",
      "loss:  23.2162457\n",
      "loss:  19.9346924\n",
      "loss:  18.5818844\n",
      "loss:  3.25987792\n",
      "loss:  3.32372928\n",
      "loss:  3.55066466\n",
      "loss:  2.88135076\n",
      "loss:  1.80350983\n",
      "loss:  2.37844515\n",
      "loss:  2.53120184\n",
      "loss:  1.87556124\n",
      "loss:  1.60273504\n",
      "loss:  2.47583628\n",
      "loss:  2.14634299\n",
      "loss:  2.26363826\n",
      "[[[2.02033806]], [2.99916]]\n",
      "time_cost: 24.618237018585205 s\n"
     ]
    }
   ],
   "source": [
    "# hints : 这里用tuple和list得到的结果不一样\n",
    "ds = tf.data.Dataset.from_tensor_slices((x, y)) \\\n",
    "        .shuffle(buffer_size = 1000) \\\n",
    "        .batch(100) \\\n",
    "        .prefetch(tf.data.experimental.AUTOTUNE)\n",
    "\n",
    "# 定义优化器\n",
    "opt = optimizers.Adam(learning_rate = 0.005)\n",
    "linear = layers.Dense(1)\n",
    "linear.build(input_shape = (1,))\n",
    "\n",
    "@tf.function\n",
    "def train(iteration_num, learning_rate = 0.01, print_loss = True):\n",
    "    for i in tf.range(iteration_num):\n",
    "        # mini-batch\n",
    "        for x_batch, y_batch in ds:\n",
    "            with tf.GradientTape() as tape:\n",
    "                y_pred = linear(x_batch)\n",
    "                loss = tf.reduce_mean((y_pred - y_batch)**2) / 2\n",
    "            grads = tape.gradient(loss, linear.trainable_weights) # 也可以使用variables, 这是继承至Module的, 而trainable_weights是继承至layers的   \n",
    "            opt.apply_gradients(zip(grads, linear.trainable_weights))\n",
    "            \n",
    "            if print_loss and i % 100 == 0:\n",
    "                y_pred = linear(x_batch)\n",
    "                tf.print(\"loss: \", tf.reduce_mean((y_pred - y_batch)**2) / 2)\n",
    "# 训练500次\n",
    "time_start = time.time()\n",
    "train(500)\n",
    "time_end = time.time()\n",
    "tf.print(linear.trainable_weights)\n",
    "print(\"time_cost:\", time_end - time_start, \"s\")"
   ]
  },
  {
   "cell_type": "code",
   "execution_count": 28,
   "metadata": {},
   "outputs": [
    {
     "data": {
      "image/png": "[encoded data removed]",
      "text/plain": [
       "<Figure size 432x288 with 1 Axes>"
      ]
     },
     "metadata": {
      "needs_background": "light"
     },
     "output_type": "display_data"
    }
   ],
   "source": [
    "from matplotlib import pyplot as plt\n",
    "# 绘制最后拟合的图像\n",
    "%matplotlib inline\n",
    "plt.scatter(x, y)\n",
    "plt.plot(x, linear(x), color='orange')\n",
    "plt.legend([\"raw point\", \"linear regression\"])\n",
    "plt.xlabel(\"x\")\n",
    "plt.ylabel(\"y\")\n",
    "plt.show()"
   ]
  }
 ],
 "metadata": {
  "kernelspec": {
   "display_name": "tensorflow2",
   "language": "python",
   "name": "tensorflow2"
  },
  "language_info": {
   "codemirror_mode": {
    "name": "ipython",
    "version": 3
   },
   "file_extension": ".py",
   "mimetype": "text/x-python",
   "name": "python",
   "nbconvert_exporter": "python",
   "pygments_lexer": "ipython3",
   "version": "3.6.10"
  }
 },
 "nbformat": 4,
 "nbformat_minor": 2
}
