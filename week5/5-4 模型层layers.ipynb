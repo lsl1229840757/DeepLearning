{
 "cells": [
  {
   "cell_type": "markdown",
   "metadata": {},
   "source": [
    "# 5-4 模型层layers\n",
    "使用keras这种高阶api的话tf.keras.layers中提供了丰富的模型层。如果这些层不能满足需求的话，可以通过编写tf.keras.Lambda层或者继承Layer基类构建自定义的模型层。"
   ]
  },
  {
   "cell_type": "markdown",
   "metadata": {},
   "source": [
    "## 一 内置模型层"
   ]
  },
  {
   "cell_type": "markdown",
   "metadata": {},
   "source": [
    "**基础层**\n",
    "\n",
    "* Dense：密集连接层。参数个数 = 输入层特征数× 输出层特征数(weight)＋ 输出层特征数(bias)\n",
    "\n",
    "* Activation：激活函数层。一般放在Dense层后面，等价于在Dense层中指定activation。\n",
    "\n",
    "* Dropout：随机置零层。训练期间以一定几率将输入置0，一种正则化手段。\n",
    "\n",
    "* BatchNormalization：批标准化层。通过线性变换将输入批次缩放平移到稳定的均值和标准差。可以增强模型对输入不同分布的适应性，加快模型训练速度，有轻微正则化效果。一般在激活函数之前使用。\n",
    "\n",
    "* SpatialDropout2D：空间随机置零层。训练期间以一定几率将整个特征图置0，一种正则化手段，有利于避免特征图之间过高的相关性。\n",
    "\n",
    "* Input：输入层。通常使用Functional API方式构建模型时作为第一层。\n",
    "\n",
    "* DenseFeature：特征列接入层，用于接收一个特征列列表并产生一个密集连接层。\n",
    "\n",
    "* Flatten：压平层，用于将多维张量压成一维。\n",
    "\n",
    "* Reshape：形状重塑层，改变输入张量的形状。\n",
    "\n",
    "* Concatenate：拼接层，将多个张量在某个维度上拼接。\n",
    "\n",
    "* Add：加法层。\n",
    "\n",
    "* Subtract： 减法层。\n",
    "\n",
    "* Maximum：取最大值层。\n",
    "\n",
    "* Minimum：取最小值层。\n",
    "\n",
    "\n",
    "**卷积网络相关层**\n",
    "\n",
    "* Conv1D：普通一维卷积，常用于文本。参数个数 = 输入通道数×卷积核尺寸(如3)×卷积核个数\n",
    "\n",
    "* Conv2D：普通二维卷积，常用于图像。参数个数 = 输入通道数×卷积核尺寸(如3乘3)×卷积核个数\n",
    "\n",
    "* Conv3D：普通三维卷积，常用于视频。参数个数 = 输入通道数×卷积核尺寸(如3乘3乘3)×卷积核个数\n",
    "\n",
    "* SeparableConv2D：二维深度可分离卷积层。不同于普通卷积同时对区域和通道操作，深度可分离卷积先操作区域，再操作通道。即先对每个通道做独立卷积操作区域，再用1乘1卷积跨通道组合操作通道。参数个数 = 输入通道数×卷积核尺寸 + 输入通道数×1×1×输出通道数。深度可分离卷积的参数数量一般远小于普通卷积，效果一般也更好。\n",
    "\n",
    "* DepthwiseConv2D：二维深度卷积层。仅有SeparableConv2D前半部分操作，即只操作区域，不操作通道，一般输出通道数和输入通道数相同，但也可以通过设置depth_multiplier让输出通道为输入通道的若干倍数。输出通道数 = 输入通道数 × depth_multiplier。参数个数 = 输入通道数×卷积核尺寸× depth_multiplier。\n",
    "\n",
    "* Conv2DTranspose：二维卷积转置层，俗称反卷积层。并非卷积的逆操作，但在卷积核相同的情况下，当其输入尺寸是卷积操作输出尺寸的情况下，卷积转置的输出尺寸恰好是卷积操作的输入尺寸。\n",
    "\n",
    "* LocallyConnected2D: 二维局部连接层。类似Conv2D，唯一的差别是没有空间上的权值共享，所以其参数个数远高于二维卷积。\n",
    "\n",
    "* MaxPool2D: 二维最大池化层。也称作下采样层。池化层无可训练参数，主要作用是降维。\n",
    "\n",
    "* AveragePooling2D: 二维平均池化层。\n",
    "\n",
    "* GlobalMaxPool2D: 全局最大池化层。每个通道仅保留一个值。一般从卷积层过渡到全连接层时使用，是Flatten的替代方案。\n",
    "\n",
    "* GlobalAvgPool2D: 全局平均池化层。每个通道仅保留一个值。\n",
    "\n",
    "\n",
    "**循环网络相关层**\n",
    "\n",
    "* Embedding：嵌入层。一种比Onehot更加有效的对离散特征进行编码的方法。一般用于将输入中的单词映射为稠密向量。嵌入层的参数需要学习。\n",
    "\n",
    "* LSTM：长短记忆循环网络层。最普遍使用的循环网络层。具有携带轨道，遗忘门，更新门，输出门。可以较为有效地缓解梯度消失问题，从而能够适用长期依赖问题。设置return_sequences = True时可以返回各个中间步骤输出，否则只返回最终输出。\n",
    "\n",
    "* GRU：门控循环网络层。LSTM的低配版，不具有携带轨道，参数数量少于LSTM，训练速度更快。\n",
    "\n",
    "* SimpleRNN：简单循环网络层。容易存在梯度消失，不能够适用长期依赖问题。一般较少使用。\n",
    "\n",
    "* ConvLSTM2D：卷积长短记忆循环网络层。结构上类似LSTM，但对输入的转换操作和对状态的转换操作都是卷积运算。\n",
    "\n",
    "* Bidirectional：双向循环网络包装器。可以将LSTM，GRU等层包装成双向循环网络。从而增强特征提取能力。\n",
    "\n",
    "* RNN：RNN基本层。接受一个循环网络单元或一个循环单元列表，通过调用tf.keras.backend.rnn函数在序列上进行迭代从而转换成循环网络层。\n",
    "\n",
    "* LSTMCell：LSTM单元。和LSTM在整个序列上迭代相比，它仅在序列上迭代一步。可以简单理解LSTM即RNN基本层包裹LSTMCell。\n",
    "\n",
    "* GRUCell：GRU单元。和GRU在整个序列上迭代相比，它仅在序列上迭代一步。\n",
    "\n",
    "* SimpleRNNCell：SimpleRNN单元。和SimpleRNN在整个序列上迭代相比，它仅在序列上迭代一步。\n",
    "\n",
    "* AbstractRNNCell：抽象RNN单元。通过对它的子类化用户可以自定义RNN单元，再通过RNN基本层的包裹实现用户自定义循环网络层。\n",
    "\n",
    "* Attention：Dot-product类型注意力机制层。可以用于构建注意力模型。\n",
    "\n",
    "* AdditiveAttention：Additive类型注意力机制层。可以用于构建注意力模型。\n",
    "\n",
    "* TimeDistributed：时间分布包装器。包装后可以将Dense、Conv2D等作用到每一个时间片段上。"
   ]
  },
  {
   "cell_type": "markdown",
   "metadata": {},
   "source": [
    "## 二 自定义模型层\n",
    "如果自定义的模型层没有参数的话推荐使用Lambda层，如果有参数需要训练的话推荐使用继承Layer"
   ]
  },
  {
   "cell_type": "code",
   "execution_count": 4,
   "metadata": {},
   "outputs": [],
   "source": [
    "import tensorflow as tf\n",
    "from tensorflow.keras import layers, models, regularizers"
   ]
  },
  {
   "cell_type": "code",
   "execution_count": 7,
   "metadata": {},
   "outputs": [
    {
     "data": {
      "text/plain": [
       "<tf.Tensor: shape=(5,), dtype=int32, numpy=array([ 0,  1,  4,  9, 16], dtype=int32)>"
      ]
     },
     "execution_count": 7,
     "metadata": {},
     "output_type": "execute_result"
    }
   ],
   "source": [
    "mypower = layers.Lambda(lambda x: tf.math.pow(x, 2))\n",
    "mypower(tf.range(5))"
   ]
  },
  {
   "cell_type": "markdown",
   "metadata": {},
   "source": [
    "一般继承layers的子类需要重新实现初始化的方法, Build方法和Call方法"
   ]
  },
  {
   "cell_type": "code",
   "execution_count": 43,
   "metadata": {},
   "outputs": [],
   "source": [
    "class Linear(layers.Layer):\n",
    "    def __init__(self, units = 32, **kwargs):\n",
    "        super(Linear, self).__init__(**kwargs)  # 调用父类方法把该层的namespace注册进去\n",
    "        self.units = units\n",
    "        self.w = None\n",
    "        self.b = None\n",
    "        print(self.built)\n",
    "        if \"input_shape\" in kwargs:\n",
    "            self.build(kwargs[\"input_shape\"])\n",
    "    \n",
    "    \n",
    "    def build(self, input_shape):\n",
    "        self.w = self.add_weight(shape = (input_shape[-1], self.units), initializer = 'random_normal', trainable = True)\n",
    "        self.b = self.add_weight(shape = (self.units, ), initializer = 'random_normal', trainable = True)\n",
    "        super(Linear, self).build(input_shape)  # 相当于设置self.built = True\n",
    "        \n",
    "    def call(self, inputs):\n",
    "        return inputs @ self.w + self.b\n",
    "    \n",
    "    # 如果要让自定义的Layer通过Functional API组合成模型时可以序列化, 就需要定义get_config\n",
    "    def get_config(self):\n",
    "        config = super(Linear, self).get_config()\n",
    "        config.update({'units': self.units})\n",
    "        return config"
   ]
  },
  {
   "cell_type": "code",
   "execution_count": 44,
   "metadata": {},
   "outputs": [
    {
     "name": "stdout",
     "output_type": "stream",
     "text": [
      "False\n",
      "False\n",
      "True\n"
     ]
    }
   ],
   "source": [
    "linear = Linear(8)\n",
    "print(linear.built)\n",
    "linear.build(input_shape = (None, 16))\n",
    "print(linear.built)"
   ]
  },
  {
   "cell_type": "code",
   "execution_count": 45,
   "metadata": {},
   "outputs": [
    {
     "name": "stdout",
     "output_type": "stream",
     "text": [
      "{'name': 'linear_1', 'trainable': True, 'dtype': 'float32', 'units': 8}\n"
     ]
    }
   ],
   "source": [
    "print(linear.get_config())"
   ]
  },
  {
   "cell_type": "code",
   "execution_count": 46,
   "metadata": {},
   "outputs": [
    {
     "name": "stdout",
     "output_type": "stream",
     "text": [
      "False\n",
      "before add: False\n",
      "before summary: True\n",
      "Model: \"sequential\"\n",
      "_________________________________________________________________\n",
      "Layer (type)                 Output Shape              Param #   \n",
      "=================================================================\n",
      "linear (Linear)              (None, 16)                1040      \n",
      "=================================================================\n",
      "Total params: 1,040\n",
      "Trainable params: 1,040\n",
      "Non-trainable params: 0\n",
      "_________________________________________________________________\n"
     ]
    }
   ],
   "source": [
    "tf.keras.backend.clear_session()\n",
    "model = models.Sequential()\n",
    "l = Linear(units = 16, input_shape = (64, ))\n",
    "print(\"before add:\", l.built)\n",
    "model.add(l)\n",
    "print(\"before summary:\", model.built)\n",
    "model.summary()"
   ]
  }
 ],
 "metadata": {
  "kernelspec": {
   "display_name": "tensorflow2",
   "language": "python",
   "name": "tensorflow2"
  },
  "language_info": {
   "codemirror_mode": {
    "name": "ipython",
    "version": 3
   },
   "file_extension": ".py",
   "mimetype": "text/x-python",
   "name": "python",
   "nbconvert_exporter": "python",
   "pygments_lexer": "ipython3",
   "version": "3.6.10"
  }
 },
 "nbformat": 4,
 "nbformat_minor": 2
}
