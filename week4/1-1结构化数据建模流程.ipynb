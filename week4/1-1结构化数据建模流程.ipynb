{
 "cells": [
  {
   "cell_type": "markdown",
   "metadata": {},
   "source": [
    "# 1-1 结构化数据建模流程\n",
    "## 数据集概述\n",
    "titanic数据集的目标是根据乘客信息预测他们再Titanic号撞击沉没后是否能生存\n",
    "## 结构化数据处理的方式\n",
    "结构化的数据一般使用Pandas进行处理"
   ]
  },
  {
   "cell_type": "code",
   "execution_count": 163,
   "metadata": {},
   "outputs": [],
   "source": [
    "import numpy as np \n",
    "import pandas as pd \n",
    "import matplotlib.pyplot as plt\n",
    "import tensorflow as tf\n",
    "from tensorflow.keras import models,layers\n",
    "%matplotlib inline"
   ]
  },
  {
   "cell_type": "markdown",
   "metadata": {},
   "source": [
    "## 读入数据"
   ]
  },
  {
   "cell_type": "markdown",
   "metadata": {},
   "source": [
    "### 字段说明\n",
    "* Survied：0代表死亡, 1代表存活 【y标签】\n",
    "* Pclass: 乘客所持的票类\n",
    "* Name: 乘客姓名【与预测无关】\n",
    "* Sex: 性别\n",
    "* SibSp:兄弟姐妹的个数\n",
    "* Parch:父母和孩子的个数\n",
    "* Ticket: 票号【与预测无关】\n",
    "* Fare: 票价\n",
    "* Cabin: 所在船舱\n",
    "* Embarked: 登船港口"
   ]
  },
  {
   "cell_type": "code",
   "execution_count": 164,
   "metadata": {},
   "outputs": [
    {
     "data": {
      "text/html": [
       "<div>\n",
       "<style scoped>\n",
       "    .dataframe tbody tr th:only-of-type {\n",
       "        vertical-align: middle;\n",
       "    }\n",
       "\n",
       "    .dataframe tbody tr th {\n",
       "        vertical-align: top;\n",
       "    }\n",
       "\n",
       "    .dataframe thead th {\n",
       "        text-align: right;\n",
       "    }\n",
       "</style>\n",
       "<table border=\"1\" class=\"dataframe\">\n",
       "  <thead>\n",
       "    <tr style=\"text-align: right;\">\n",
       "      <th></th>\n",
       "      <th>PassengerId</th>\n",
       "      <th>Survived</th>\n",
       "      <th>Pclass</th>\n",
       "      <th>Name</th>\n",
       "      <th>Sex</th>\n",
       "      <th>Age</th>\n",
       "      <th>SibSp</th>\n",
       "      <th>Parch</th>\n",
       "      <th>Ticket</th>\n",
       "      <th>Fare</th>\n",
       "      <th>Cabin</th>\n",
       "      <th>Embarked</th>\n",
       "    </tr>\n",
       "  </thead>\n",
       "  <tbody>\n",
       "    <tr>\n",
       "      <th>0</th>\n",
       "      <td>493</td>\n",
       "      <td>0</td>\n",
       "      <td>1</td>\n",
       "      <td>Molson, Mr. Harry Markland</td>\n",
       "      <td>male</td>\n",
       "      <td>55.0</td>\n",
       "      <td>0</td>\n",
       "      <td>0</td>\n",
       "      <td>113787</td>\n",
       "      <td>30.5000</td>\n",
       "      <td>C30</td>\n",
       "      <td>S</td>\n",
       "    </tr>\n",
       "    <tr>\n",
       "      <th>1</th>\n",
       "      <td>53</td>\n",
       "      <td>1</td>\n",
       "      <td>1</td>\n",
       "      <td>Harper, Mrs. Henry Sleeper (Myna Haxtun)</td>\n",
       "      <td>female</td>\n",
       "      <td>49.0</td>\n",
       "      <td>1</td>\n",
       "      <td>0</td>\n",
       "      <td>PC 17572</td>\n",
       "      <td>76.7292</td>\n",
       "      <td>D33</td>\n",
       "      <td>C</td>\n",
       "    </tr>\n",
       "    <tr>\n",
       "      <th>2</th>\n",
       "      <td>388</td>\n",
       "      <td>1</td>\n",
       "      <td>2</td>\n",
       "      <td>Buss, Miss. Kate</td>\n",
       "      <td>female</td>\n",
       "      <td>36.0</td>\n",
       "      <td>0</td>\n",
       "      <td>0</td>\n",
       "      <td>27849</td>\n",
       "      <td>13.0000</td>\n",
       "      <td>NaN</td>\n",
       "      <td>S</td>\n",
       "    </tr>\n",
       "    <tr>\n",
       "      <th>3</th>\n",
       "      <td>192</td>\n",
       "      <td>0</td>\n",
       "      <td>2</td>\n",
       "      <td>Carbines, Mr. William</td>\n",
       "      <td>male</td>\n",
       "      <td>19.0</td>\n",
       "      <td>0</td>\n",
       "      <td>0</td>\n",
       "      <td>28424</td>\n",
       "      <td>13.0000</td>\n",
       "      <td>NaN</td>\n",
       "      <td>S</td>\n",
       "    </tr>\n",
       "    <tr>\n",
       "      <th>4</th>\n",
       "      <td>687</td>\n",
       "      <td>0</td>\n",
       "      <td>3</td>\n",
       "      <td>Panula, Mr. Jaako Arnold</td>\n",
       "      <td>male</td>\n",
       "      <td>14.0</td>\n",
       "      <td>4</td>\n",
       "      <td>1</td>\n",
       "      <td>3101295</td>\n",
       "      <td>39.6875</td>\n",
       "      <td>NaN</td>\n",
       "      <td>S</td>\n",
       "    </tr>\n",
       "  </tbody>\n",
       "</table>\n",
       "</div>"
      ],
      "text/plain": [
       "   PassengerId  Survived  Pclass                                      Name  \\\n",
       "0          493         0       1                Molson, Mr. Harry Markland   \n",
       "1           53         1       1  Harper, Mrs. Henry Sleeper (Myna Haxtun)   \n",
       "2          388         1       2                          Buss, Miss. Kate   \n",
       "3          192         0       2                     Carbines, Mr. William   \n",
       "4          687         0       3                  Panula, Mr. Jaako Arnold   \n",
       "\n",
       "      Sex   Age  SibSp  Parch    Ticket     Fare Cabin Embarked  \n",
       "0    male  55.0      0      0    113787  30.5000   C30        S  \n",
       "1  female  49.0      1      0  PC 17572  76.7292   D33        C  \n",
       "2  female  36.0      0      0     27849  13.0000   NaN        S  \n",
       "3    male  19.0      0      0     28424  13.0000   NaN        S  \n",
       "4    male  14.0      4      1   3101295  39.6875   NaN        S  "
      ]
     },
     "execution_count": 164,
     "metadata": {},
     "output_type": "execute_result"
    }
   ],
   "source": [
    "dftrain_raw = pd.read_csv('./data/titanic/train.csv')\n",
    "dftest_raw = pd.read_csv('./data/titanic/test.csv')\n",
    "dftrain_raw.head()"
   ]
  },
  {
   "cell_type": "markdown",
   "metadata": {},
   "source": [
    "### label分布情况"
   ]
  },
  {
   "cell_type": "code",
   "execution_count": 19,
   "metadata": {},
   "outputs": [
    {
     "data": {
      "image/png": "[encoded data removed]",
      "text/plain": [
       "<Figure size 432x288 with 1 Axes>"
      ]
     },
     "metadata": {
      "needs_background": "light"
     },
     "output_type": "display_data"
    }
   ],
   "source": [
    "ax = dftrain_raw['Survived'].value_counts().plot(kind='bar', fontsize=15)\n",
    "ax.set_ylabel('Counts')\n",
    "ax.set_xlabel('Survived')\n",
    "plt.show()"
   ]
  },
  {
   "cell_type": "code",
   "execution_count": 20,
   "metadata": {},
   "outputs": [
    {
     "name": "stdout",
     "output_type": "stream",
     "text": [
      "Help on method value_counts in module pandas.core.base:\n",
      "\n",
      "value_counts(normalize=False, sort=True, ascending=False, bins=None, dropna=True) method of pandas.core.series.Series instance\n",
      "    Return a Series containing counts of unique values.\n",
      "    \n",
      "    The resulting object will be in descending order so that the\n",
      "    first element is the most frequently-occurring element.\n",
      "    Excludes NA values by default.\n",
      "    \n",
      "    Parameters\n",
      "    ----------\n",
      "    normalize : bool, default False\n",
      "        If True then the object returned will contain the relative\n",
      "        frequencies of the unique values.\n",
      "    sort : bool, default True\n",
      "        Sort by frequencies.\n",
      "    ascending : bool, default False\n",
      "        Sort in ascending order.\n",
      "    bins : int, optional\n",
      "        Rather than count values, group them into half-open bins,\n",
      "        a convenience for ``pd.cut``, only works with numeric data.\n",
      "    dropna : bool, default True\n",
      "        Don't include counts of NaN.\n",
      "    \n",
      "    Returns\n",
      "    -------\n",
      "    Series\n",
      "    \n",
      "    See Also\n",
      "    --------\n",
      "    Series.count: Number of non-NA elements in a Series.\n",
      "    DataFrame.count: Number of non-NA elements in a DataFrame.\n",
      "    \n",
      "    Examples\n",
      "    --------\n",
      "    >>> index = pd.Index([3, 1, 2, 3, 4, np.nan])\n",
      "    >>> index.value_counts()\n",
      "    3.0    2\n",
      "    4.0    1\n",
      "    2.0    1\n",
      "    1.0    1\n",
      "    dtype: int64\n",
      "    \n",
      "    With `normalize` set to `True`, returns the relative frequency by\n",
      "    dividing all values by the sum of values.\n",
      "    \n",
      "    >>> s = pd.Series([3, 1, 2, 3, 4, np.nan])\n",
      "    >>> s.value_counts(normalize=True)\n",
      "    3.0    0.4\n",
      "    4.0    0.2\n",
      "    2.0    0.2\n",
      "    1.0    0.2\n",
      "    dtype: float64\n",
      "    \n",
      "    **bins**\n",
      "    \n",
      "    Bins can be useful for going from a continuous variable to a\n",
      "    categorical variable; instead of counting unique\n",
      "    apparitions of values, divide the index in the specified\n",
      "    number of half-open bins.\n",
      "    \n",
      "    >>> s.value_counts(bins=3)\n",
      "    (2.0, 3.0]      2\n",
      "    (0.996, 2.0]    2\n",
      "    (3.0, 4.0]      1\n",
      "    dtype: int64\n",
      "    \n",
      "    **dropna**\n",
      "    \n",
      "    With `dropna` set to `False` we can also see NaN index values.\n",
      "    \n",
      "    >>> s.value_counts(dropna=False)\n",
      "    3.0    2\n",
      "    NaN    1\n",
      "    4.0    1\n",
      "    2.0    1\n",
      "    1.0    1\n",
      "    dtype: int64\n",
      "\n"
     ]
    }
   ],
   "source": [
    "help(dftrain_raw['Survived'].value_counts)"
   ]
  },
  {
   "cell_type": "markdown",
   "metadata": {},
   "source": [
    "### 年龄分布情况"
   ]
  },
  {
   "cell_type": "code",
   "execution_count": 23,
   "metadata": {},
   "outputs": [
    {
     "data": {
      "image/png": "[encoded data removed]",
      "text/plain": [
       "<Figure size 432x288 with 1 Axes>"
      ]
     },
     "metadata": {
      "needs_background": "light"
     },
     "output_type": "display_data"
    }
   ],
   "source": [
    "ax = dftrain_raw['Age'].plot(kind='hist', bins=20)\n",
    "ax.set_ylabel('Frequency')\n",
    "ax.set_xlabel('Age')\n",
    "plt.show()"
   ]
  },
  {
   "cell_type": "markdown",
   "metadata": {},
   "source": [
    "### 死亡和幸存的核密度折线图"
   ]
  },
  {
   "cell_type": "code",
   "execution_count": 27,
   "metadata": {},
   "outputs": [
    {
     "data": {
      "image/png": "[encoded data removed]",
      "text/plain": [
       "<Figure size 432x288 with 1 Axes>"
      ]
     },
     "metadata": {
      "needs_background": "light"
     },
     "output_type": "display_data"
    }
   ],
   "source": [
    "ax = dftrain_raw.query('Survived == 0')['Age'].plot(kind='density')  # 死亡\n",
    "dftrain_raw.query('Survived == 1')['Age'].plot(kind='density') # 幸存\n",
    "ax.legend(['Die', 'Survive'])\n",
    "ax.set_ylabel('Density')\n",
    "ax.set_xlabel('Age')\n",
    "plt.show()"
   ]
  },
  {
   "cell_type": "markdown",
   "metadata": {},
   "source": [
    "> 从上图中可以看出来的是, 死亡和幸存较多的人都集中在30岁左右"
   ]
  },
  {
   "cell_type": "code",
   "execution_count": 28,
   "metadata": {},
   "outputs": [
    {
     "name": "stdout",
     "output_type": "stream",
     "text": [
      "Help on function get_dummies in module pandas.core.reshape.reshape:\n",
      "\n",
      "get_dummies(data, prefix=None, prefix_sep='_', dummy_na=False, columns=None, sparse=False, drop_first=False, dtype=None) -> 'DataFrame'\n",
      "    Convert categorical variable into dummy/indicator variables.\n",
      "    \n",
      "    Parameters\n",
      "    ----------\n",
      "    data : array-like, Series, or DataFrame\n",
      "        Data of which to get dummy indicators.\n",
      "    prefix : str, list of str, or dict of str, default None\n",
      "        String to append DataFrame column names.\n",
      "        Pass a list with length equal to the number of columns\n",
      "        when calling get_dummies on a DataFrame. Alternatively, `prefix`\n",
      "        can be a dictionary mapping column names to prefixes.\n",
      "    prefix_sep : str, default '_'\n",
      "        If appending prefix, separator/delimiter to use. Or pass a\n",
      "        list or dictionary as with `prefix`.\n",
      "    dummy_na : bool, default False\n",
      "        Add a column to indicate NaNs, if False NaNs are ignored.\n",
      "    columns : list-like, default None\n",
      "        Column names in the DataFrame to be encoded.\n",
      "        If `columns` is None then all the columns with\n",
      "        `object` or `category` dtype will be converted.\n",
      "    sparse : bool, default False\n",
      "        Whether the dummy-encoded columns should be backed by\n",
      "        a :class:`SparseArray` (True) or a regular NumPy array (False).\n",
      "    drop_first : bool, default False\n",
      "        Whether to get k-1 dummies out of k categorical levels by removing the\n",
      "        first level.\n",
      "    dtype : dtype, default np.uint8\n",
      "        Data type for new columns. Only a single dtype is allowed.\n",
      "    \n",
      "        .. versionadded:: 0.23.0\n",
      "    \n",
      "    Returns\n",
      "    -------\n",
      "    DataFrame\n",
      "        Dummy-coded data.\n",
      "    \n",
      "    See Also\n",
      "    --------\n",
      "    Series.str.get_dummies : Convert Series to dummy codes.\n",
      "    \n",
      "    Examples\n",
      "    --------\n",
      "    >>> s = pd.Series(list('abca'))\n",
      "    \n",
      "    >>> pd.get_dummies(s)\n",
      "       a  b  c\n",
      "    0  1  0  0\n",
      "    1  0  1  0\n",
      "    2  0  0  1\n",
      "    3  1  0  0\n",
      "    \n",
      "    >>> s1 = ['a', 'b', np.nan]\n",
      "    \n",
      "    >>> pd.get_dummies(s1)\n",
      "       a  b\n",
      "    0  1  0\n",
      "    1  0  1\n",
      "    2  0  0\n",
      "    \n",
      "    >>> pd.get_dummies(s1, dummy_na=True)\n",
      "       a  b  NaN\n",
      "    0  1  0    0\n",
      "    1  0  1    0\n",
      "    2  0  0    1\n",
      "    \n",
      "    >>> df = pd.DataFrame({'A': ['a', 'b', 'a'], 'B': ['b', 'a', 'c'],\n",
      "    ...                    'C': [1, 2, 3]})\n",
      "    \n",
      "    >>> pd.get_dummies(df, prefix=['col1', 'col2'])\n",
      "       C  col1_a  col1_b  col2_a  col2_b  col2_c\n",
      "    0  1       1       0       0       1       0\n",
      "    1  2       0       1       1       0       0\n",
      "    2  3       1       0       0       0       1\n",
      "    \n",
      "    >>> pd.get_dummies(pd.Series(list('abcaa')))\n",
      "       a  b  c\n",
      "    0  1  0  0\n",
      "    1  0  1  0\n",
      "    2  0  0  1\n",
      "    3  1  0  0\n",
      "    4  1  0  0\n",
      "    \n",
      "    >>> pd.get_dummies(pd.Series(list('abcaa')), drop_first=True)\n",
      "       b  c\n",
      "    0  0  0\n",
      "    1  1  0\n",
      "    2  0  1\n",
      "    3  0  0\n",
      "    4  0  0\n",
      "    \n",
      "    >>> pd.get_dummies(pd.Series(list('abc')), dtype=float)\n",
      "         a    b    c\n",
      "    0  1.0  0.0  0.0\n",
      "    1  0.0  1.0  0.0\n",
      "    2  0.0  0.0  1.0\n",
      "\n"
     ]
    }
   ],
   "source": [
    "help(pd.get_dummies)"
   ]
  },
  {
   "cell_type": "code",
   "execution_count": 42,
   "metadata": {},
   "outputs": [],
   "source": [
    "def preprocessing(df):\n",
    "    dfresult = pd.DataFrame()\n",
    "    # Pclass, 变成one-hot编码\n",
    "    dfPlass = pd.get_dummies(df['Pclass'], prefix = 'Pclass')\n",
    "    dfresult = pd.concat([dfresult, dfPlass], axis = 1)\n",
    "    \n",
    "    # Sex\n",
    "    dfSex = pd.get_dummies(df['Sex'], prefix = 'Sex')\n",
    "    dfresult = pd.concat([dfresult, dfSex], axis = 1)\n",
    "    \n",
    "    # Age\n",
    "    dfresult['Age'] = df['Age'].fillna(0)  # 如果为nan的话就用0填充\n",
    "    dfresult['Age_null'] = pd.isna(df['Age']).astype('int32')  # 虽然用0填充了，但还需要一个标记，标识这里是否为null\n",
    "    \n",
    "    # SibSp, Parch, Fare\n",
    "    dfresult['SibSp'] = df['SibSp']\n",
    "    dfresult['Parch'] = df['Parch']\n",
    "    dfresult['Fare'] = df['Fare']\n",
    "    \n",
    "    # Carbin\n",
    "    dfresult['Cabin_null'] = pd.isna(df['Cabin']).astype('int32')  # 标记是否有船舱\n",
    "    \n",
    "    # Embarked\n",
    "    dfEmbarked = pd.get_dummies(df['Embarked'], dummy_na=True, prefix='Embarked')\n",
    "    \n",
    "    dfresult = pd.concat([dfresult, dfEmbarked], axis=1)\n",
    "    return dfresult"
   ]
  },
  {
   "cell_type": "code",
   "execution_count": 45,
   "metadata": {},
   "outputs": [
    {
     "data": {
      "text/html": [
       "<div>\n",
       "<style scoped>\n",
       "    .dataframe tbody tr th:only-of-type {\n",
       "        vertical-align: middle;\n",
       "    }\n",
       "\n",
       "    .dataframe tbody tr th {\n",
       "        vertical-align: top;\n",
       "    }\n",
       "\n",
       "    .dataframe thead th {\n",
       "        text-align: right;\n",
       "    }\n",
       "</style>\n",
       "<table border=\"1\" class=\"dataframe\">\n",
       "  <thead>\n",
       "    <tr style=\"text-align: right;\">\n",
       "      <th></th>\n",
       "      <th>Pclass_1</th>\n",
       "      <th>Pclass_2</th>\n",
       "      <th>Pclass_3</th>\n",
       "      <th>Sex_female</th>\n",
       "      <th>Sex_male</th>\n",
       "      <th>Age</th>\n",
       "      <th>Age_null</th>\n",
       "      <th>SibSp</th>\n",
       "      <th>Parch</th>\n",
       "      <th>Fare</th>\n",
       "      <th>Cabin_null</th>\n",
       "      <th>Embarked_C</th>\n",
       "      <th>Embarked_Q</th>\n",
       "      <th>Embarked_S</th>\n",
       "      <th>Embarked_nan</th>\n",
       "    </tr>\n",
       "  </thead>\n",
       "  <tbody>\n",
       "    <tr>\n",
       "      <th>0</th>\n",
       "      <td>1</td>\n",
       "      <td>0</td>\n",
       "      <td>0</td>\n",
       "      <td>0</td>\n",
       "      <td>1</td>\n",
       "      <td>55.0</td>\n",
       "      <td>0</td>\n",
       "      <td>0</td>\n",
       "      <td>0</td>\n",
       "      <td>30.5000</td>\n",
       "      <td>0</td>\n",
       "      <td>0</td>\n",
       "      <td>0</td>\n",
       "      <td>1</td>\n",
       "      <td>0</td>\n",
       "    </tr>\n",
       "    <tr>\n",
       "      <th>1</th>\n",
       "      <td>1</td>\n",
       "      <td>0</td>\n",
       "      <td>0</td>\n",
       "      <td>1</td>\n",
       "      <td>0</td>\n",
       "      <td>49.0</td>\n",
       "      <td>0</td>\n",
       "      <td>1</td>\n",
       "      <td>0</td>\n",
       "      <td>76.7292</td>\n",
       "      <td>0</td>\n",
       "      <td>1</td>\n",
       "      <td>0</td>\n",
       "      <td>0</td>\n",
       "      <td>0</td>\n",
       "    </tr>\n",
       "    <tr>\n",
       "      <th>2</th>\n",
       "      <td>0</td>\n",
       "      <td>1</td>\n",
       "      <td>0</td>\n",
       "      <td>1</td>\n",
       "      <td>0</td>\n",
       "      <td>36.0</td>\n",
       "      <td>0</td>\n",
       "      <td>0</td>\n",
       "      <td>0</td>\n",
       "      <td>13.0000</td>\n",
       "      <td>1</td>\n",
       "      <td>0</td>\n",
       "      <td>0</td>\n",
       "      <td>1</td>\n",
       "      <td>0</td>\n",
       "    </tr>\n",
       "    <tr>\n",
       "      <th>3</th>\n",
       "      <td>0</td>\n",
       "      <td>1</td>\n",
       "      <td>0</td>\n",
       "      <td>0</td>\n",
       "      <td>1</td>\n",
       "      <td>19.0</td>\n",
       "      <td>0</td>\n",
       "      <td>0</td>\n",
       "      <td>0</td>\n",
       "      <td>13.0000</td>\n",
       "      <td>1</td>\n",
       "      <td>0</td>\n",
       "      <td>0</td>\n",
       "      <td>1</td>\n",
       "      <td>0</td>\n",
       "    </tr>\n",
       "    <tr>\n",
       "      <th>4</th>\n",
       "      <td>0</td>\n",
       "      <td>0</td>\n",
       "      <td>1</td>\n",
       "      <td>0</td>\n",
       "      <td>1</td>\n",
       "      <td>14.0</td>\n",
       "      <td>0</td>\n",
       "      <td>4</td>\n",
       "      <td>1</td>\n",
       "      <td>39.6875</td>\n",
       "      <td>1</td>\n",
       "      <td>0</td>\n",
       "      <td>0</td>\n",
       "      <td>1</td>\n",
       "      <td>0</td>\n",
       "    </tr>\n",
       "  </tbody>\n",
       "</table>\n",
       "</div>"
      ],
      "text/plain": [
       "   Pclass_1  Pclass_2  Pclass_3  Sex_female  Sex_male   Age  Age_null  SibSp  \\\n",
       "0         1         0         0           0         1  55.0         0      0   \n",
       "1         1         0         0           1         0  49.0         0      1   \n",
       "2         0         1         0           1         0  36.0         0      0   \n",
       "3         0         1         0           0         1  19.0         0      0   \n",
       "4         0         0         1           0         1  14.0         0      4   \n",
       "\n",
       "   Parch     Fare  Cabin_null  Embarked_C  Embarked_Q  Embarked_S  \\\n",
       "0      0  30.5000           0           0           0           1   \n",
       "1      0  76.7292           0           1           0           0   \n",
       "2      0  13.0000           1           0           0           1   \n",
       "3      0  13.0000           1           0           0           1   \n",
       "4      1  39.6875           1           0           0           1   \n",
       "\n",
       "   Embarked_nan  \n",
       "0             0  \n",
       "1             0  \n",
       "2             0  \n",
       "3             0  \n",
       "4             0  "
      ]
     },
     "execution_count": 45,
     "metadata": {},
     "output_type": "execute_result"
    }
   ],
   "source": [
    "x_train = preprocessing(dftrain_raw)\n",
    "x_train.head()"
   ]
  },
  {
   "cell_type": "code",
   "execution_count": 46,
   "metadata": {},
   "outputs": [
    {
     "name": "stdout",
     "output_type": "stream",
     "text": [
      "x_train shape: (712, 15)\n",
      "x_test shape: (179, 15)\n"
     ]
    }
   ],
   "source": [
    "y_train = dftrain_raw['Survived']\n",
    "x_test = preprocessing(dftest_raw)\n",
    "y_test = dftest_raw['Survived']\n",
    "print('x_train shape:', x_train.shape)\n",
    "print('x_test shape:', x_test.shape)"
   ]
  },
  {
   "cell_type": "markdown",
   "metadata": {},
   "source": [
    "## 定义模型"
   ]
  },
  {
   "cell_type": "markdown",
   "metadata": {},
   "source": [
    "### Keras构建模型"
   ]
  },
  {
   "cell_type": "code",
   "execution_count": 49,
   "metadata": {},
   "outputs": [
    {
     "name": "stdout",
     "output_type": "stream",
     "text": [
      "Model: \"model\"\n",
      "_________________________________________________________________\n",
      "Layer (type)                 Output Shape              Param #   \n",
      "=================================================================\n",
      "input_1 (InputLayer)         [(None, 15)]              0         \n",
      "_________________________________________________________________\n",
      "dense (Dense)                (None, 20)                320       \n",
      "_________________________________________________________________\n",
      "dense_1 (Dense)              (None, 10)                210       \n",
      "_________________________________________________________________\n",
      "dense_2 (Dense)              (None, 1)                 11        \n",
      "=================================================================\n",
      "Total params: 541\n",
      "Trainable params: 541\n",
      "Non-trainable params: 0\n",
      "_________________________________________________________________\n"
     ]
    }
   ],
   "source": [
    "tf.keras.backend.clear_session()\n",
    "x_input = layers.Input(shape=(15,))\n",
    "dense1 = layers.Dense(20, activation = 'relu')(x_input)\n",
    "dense2 = layers.Dense(10, activation = 'relu')(dense1)\n",
    "x_output = layers.Dense(1, activation = 'sigmoid')(dense2)\n",
    "model = tf.keras.Model(inputs = x_input, outputs = x_output)\n",
    "model.summary()"
   ]
  },
  {
   "cell_type": "code",
   "execution_count": 52,
   "metadata": {},
   "outputs": [
    {
     "name": "stdout",
     "output_type": "stream",
     "text": [
      "Epoch 1/30\n",
      "18/18 [==============================] - 0s 25ms/step - loss: 0.7278 - auc: 0.6326 - val_loss: 0.7086 - val_auc: 0.6565\n",
      "Epoch 2/30\n",
      "18/18 [==============================] - 0s 4ms/step - loss: 0.6806 - auc: 0.7129 - val_loss: 0.6932 - val_auc: 0.6558\n",
      "Epoch 3/30\n",
      "18/18 [==============================] - 0s 4ms/step - loss: 0.6741 - auc: 0.7163 - val_loss: 0.6841 - val_auc: 0.6543\n",
      "Epoch 4/30\n",
      "18/18 [==============================] - 0s 4ms/step - loss: 0.6608 - auc: 0.7743 - val_loss: 0.6708 - val_auc: 0.6968\n",
      "Epoch 5/30\n",
      "18/18 [==============================] - 0s 4ms/step - loss: 0.6395 - auc: 0.7644 - val_loss: 0.6587 - val_auc: 0.6788\n",
      "Epoch 6/30\n",
      "18/18 [==============================] - 0s 4ms/step - loss: 0.6161 - auc: 0.7614 - val_loss: 0.6514 - val_auc: 0.6705\n",
      "Epoch 7/30\n",
      "18/18 [==============================] - 0s 4ms/step - loss: 0.5987 - auc: 0.7529 - val_loss: 0.6476 - val_auc: 0.6822\n",
      "Epoch 8/30\n",
      "18/18 [==============================] - 0s 4ms/step - loss: 0.5890 - auc: 0.7569 - val_loss: 0.6509 - val_auc: 0.6906\n",
      "Epoch 9/30\n",
      "18/18 [==============================] - 0s 4ms/step - loss: 0.5837 - auc: 0.7533 - val_loss: 0.6503 - val_auc: 0.6943\n",
      "Epoch 10/30\n",
      "18/18 [==============================] - 0s 4ms/step - loss: 0.5749 - auc: 0.7719 - val_loss: 0.6314 - val_auc: 0.6972\n",
      "Epoch 11/30\n",
      "18/18 [==============================] - 0s 4ms/step - loss: 0.5690 - auc: 0.7759 - val_loss: 0.6243 - val_auc: 0.7039\n",
      "Epoch 12/30\n",
      "18/18 [==============================] - 0s 4ms/step - loss: 0.5575 - auc: 0.7846 - val_loss: 0.6148 - val_auc: 0.7149\n",
      "Epoch 13/30\n",
      "18/18 [==============================] - 0s 4ms/step - loss: 0.5497 - auc: 0.7929 - val_loss: 0.6027 - val_auc: 0.7312\n",
      "Epoch 14/30\n",
      "18/18 [==============================] - 0s 4ms/step - loss: 0.5411 - auc: 0.8079 - val_loss: 0.6008 - val_auc: 0.7372\n",
      "Epoch 15/30\n",
      "18/18 [==============================] - 0s 4ms/step - loss: 0.5325 - auc: 0.8087 - val_loss: 0.5961 - val_auc: 0.7423\n",
      "Epoch 16/30\n",
      "18/18 [==============================] - 0s 4ms/step - loss: 0.5241 - auc: 0.8142 - val_loss: 0.5848 - val_auc: 0.7538\n",
      "Epoch 17/30\n",
      "18/18 [==============================] - 0s 4ms/step - loss: 0.5133 - auc: 0.8343 - val_loss: 0.5778 - val_auc: 0.7615\n",
      "Epoch 18/30\n",
      "18/18 [==============================] - 0s 4ms/step - loss: 0.5022 - auc: 0.8347 - val_loss: 0.5775 - val_auc: 0.7581\n",
      "Epoch 19/30\n",
      "18/18 [==============================] - 0s 4ms/step - loss: 0.4949 - auc: 0.8432 - val_loss: 0.5658 - val_auc: 0.7675\n",
      "Epoch 20/30\n",
      "18/18 [==============================] - 0s 4ms/step - loss: 0.4837 - auc: 0.8510 - val_loss: 0.5686 - val_auc: 0.7643\n",
      "Epoch 21/30\n",
      "18/18 [==============================] - 0s 4ms/step - loss: 0.4782 - auc: 0.8490 - val_loss: 0.5676 - val_auc: 0.7649\n",
      "Epoch 22/30\n",
      "18/18 [==============================] - 0s 4ms/step - loss: 0.4688 - auc: 0.8578 - val_loss: 0.5657 - val_auc: 0.7645\n",
      "Epoch 23/30\n",
      "18/18 [==============================] - 0s 4ms/step - loss: 0.4630 - auc: 0.8560 - val_loss: 0.5633 - val_auc: 0.7657\n",
      "Epoch 24/30\n",
      "18/18 [==============================] - 0s 4ms/step - loss: 0.4591 - auc: 0.8598 - val_loss: 0.5728 - val_auc: 0.7644\n",
      "Epoch 25/30\n",
      "18/18 [==============================] - 0s 4ms/step - loss: 0.4606 - auc: 0.8563 - val_loss: 0.5604 - val_auc: 0.7709\n",
      "Epoch 26/30\n",
      "18/18 [==============================] - 0s 4ms/step - loss: 0.4463 - auc: 0.8679 - val_loss: 0.5594 - val_auc: 0.7742\n",
      "Epoch 27/30\n",
      "18/18 [==============================] - 0s 4ms/step - loss: 0.4425 - auc: 0.8669 - val_loss: 0.5558 - val_auc: 0.7723\n",
      "Epoch 28/30\n",
      "18/18 [==============================] - 0s 4ms/step - loss: 0.4399 - auc: 0.8698 - val_loss: 0.5562 - val_auc: 0.7737\n",
      "Epoch 29/30\n",
      "18/18 [==============================] - 0s 4ms/step - loss: 0.4360 - auc: 0.8712 - val_loss: 0.5589 - val_auc: 0.7763\n",
      "Epoch 30/30\n",
      "18/18 [==============================] - 0s 4ms/step - loss: 0.4376 - auc: 0.8676 - val_loss: 0.5626 - val_auc: 0.7749\n"
     ]
    }
   ],
   "source": [
    "model.compile(optimizer='adam', loss='binary_crossentropy', metrics=['AUC'])\n",
    "history = model.fit(x_train, y_train, validation_split=0.2, epochs=30)  # 分割一部分用于数据验证"
   ]
  },
  {
   "cell_type": "code",
   "execution_count": 57,
   "metadata": {},
   "outputs": [
    {
     "data": {
      "image/png": "[encoded data removed]",
      "text/plain": [
       "<Figure size 432x288 with 1 Axes>"
      ]
     },
     "metadata": {
      "needs_background": "light"
     },
     "output_type": "display_data"
    }
   ],
   "source": [
    "len(history.history['loss'])\n",
    "# 绘制loss\n",
    "plt.plot(history.history['loss'])\n",
    "plt.plot(history.history['val_loss'])\n",
    "plt.legend(['train_loss', 'val_loss'])\n",
    "plt.xlabel('Epochs')\n",
    "plt.ylabel('loss')\n",
    "plt.show()"
   ]
  },
  {
   "cell_type": "code",
   "execution_count": 60,
   "metadata": {},
   "outputs": [
    {
     "name": "stdout",
     "output_type": "stream",
     "text": [
      "6/6 [==============================] - 0s 2ms/step - loss: 0.4671 - auc: 0.8198\n"
     ]
    },
    {
     "data": {
      "text/plain": [
       "[0.46710455417633057, 0.819786548614502]"
      ]
     },
     "execution_count": 60,
     "metadata": {},
     "output_type": "execute_result"
    }
   ],
   "source": [
    "# 预测类别\n",
    "model.evaluate(x_test, y_test)"
   ]
  },
  {
   "cell_type": "code",
   "execution_count": 61,
   "metadata": {},
   "outputs": [
    {
     "name": "stdout",
     "output_type": "stream",
     "text": [
      "6/6 [==============================] - 0s 2ms/step - loss: 0.4671 - auc: 0.8198\n"
     ]
    },
    {
     "data": {
      "text/plain": [
       "[0.46710455417633057, 0.819786548614502]"
      ]
     },
     "execution_count": 61,
     "metadata": {},
     "output_type": "execute_result"
    }
   ],
   "source": [
    "# 使用Keras方式保存\n",
    "model.save('./keras_1-1_model.h5')\n",
    "del model\n",
    "model = models.load_model('./keras_1-1_model.h5')\n",
    "model.evaluate(x_test, y_test)"
   ]
  },
  {
   "cell_type": "markdown",
   "metadata": {},
   "source": [
    "### Tensorflow构建动态计算图"
   ]
  },
  {
   "cell_type": "code",
   "execution_count": 136,
   "metadata": {},
   "outputs": [],
   "source": [
    "def loss_func(y_pred, y):\n",
    "    epsilon = 1e-7\n",
    "    loss = -tf.reduce_mean(y * tf.math.log(y_pred + epsilon) + (1 - y) * tf.math.log(1 - y_pred + epsilon))\n",
    "    return loss"
   ]
  },
  {
   "cell_type": "code",
   "execution_count": 160,
   "metadata": {},
   "outputs": [
    {
     "name": "stdout",
     "output_type": "stream",
     "text": [
      "tf.Tensor(7.3237233, shape=(), dtype=float32)\n"
     ]
    }
   ],
   "source": [
    "x_train_tensor = x_train.values\n",
    "y_train_tensor = y_train.values\n",
    "class MyModel:\n",
    "    def __init__(self):\n",
    "        self.w1 = tf.Variable(tf.random.truncated_normal([15, 20], dtype='float32'))\n",
    "        self.b1 = tf.Variable(tf.random.truncated_normal([1, 20], dtype='float32'))\n",
    "        self.w2 = tf.Variable(tf.random.truncated_normal([20, 10], dtype='float32'))\n",
    "        self.b2 = tf.Variable(tf.random.truncated_normal([1, 10], dtype='float32'))\n",
    "        self.w3 = tf.Variable(tf.random.truncated_normal([10, 1], dtype='float32'))\n",
    "        self.b3 = tf.Variable(tf.random.truncated_normal([1, 1], dtype='float32'))\n",
    "        \n",
    "    def __call__(self, x):\n",
    "        # InputLayer -> Dense1\n",
    "        densor1 = x @ self.w1 + self.b1\n",
    "        # Dense1 -> Dense2\n",
    "        densor2 = densor1 @ self.w2 + self.b2\n",
    "        # Dense2 -> sigmoid\n",
    "        pred = tf.sigmoid(densor2 @ self.w3 + self.b3)\n",
    "        return pred\n",
    "# 计算损失\n",
    "m_model = MyModel()\n",
    "loss = loss_func(m_model(x_train_tensor), y_train_tensor)\n",
    "print(loss)"
   ]
  },
  {
   "cell_type": "code",
   "execution_count": 161,
   "metadata": {},
   "outputs": [],
   "source": [
    "def train(model, inputs, outputs, learning_rate):\n",
    "    with tf.GradientTape() as t:\n",
    "        current_loss = loss_func(model(inputs), outputs)\n",
    "        dw1, db1, dw2, db2, dw3, db3 = t.gradient(current_loss, [model.w1, model.b1, model.w2, model.b2, model.w3, model.b3])\n",
    "        model.w1.assign_sub(learning_rate * dw1)\n",
    "        model.b1.assign_sub(learning_rate * db1)\n",
    "\n",
    "        model.w2.assign_sub(learning_rate * dw2)\n",
    "        model.b2.assign_sub(learning_rate * db2)\n",
    "\n",
    "        model.w3.assign_sub(learning_rate * dw3)\n",
    "        model.b3.assign_sub(learning_rate * db3)\n",
    "        return current_loss"
   ]
  },
  {
   "cell_type": "code",
   "execution_count": 162,
   "metadata": {},
   "outputs": [
    {
     "name": "stdout",
     "output_type": "stream",
     "text": [
      "epoch: 0  loss: tf.Tensor(7.3237233, shape=(), dtype=float32)\n",
      "epoch: 1  loss: tf.Tensor(6.250588, shape=(), dtype=float32)\n",
      "epoch: 2  loss: tf.Tensor(5.8712854, shape=(), dtype=float32)\n",
      "epoch: 3  loss: tf.Tensor(6.339668, shape=(), dtype=float32)\n",
      "epoch: 4  loss: tf.Tensor(6.3395123, shape=(), dtype=float32)\n",
      "epoch: 5  loss: tf.Tensor(6.339357, shape=(), dtype=float32)\n",
      "epoch: 6  loss: tf.Tensor(6.339203, shape=(), dtype=float32)\n",
      "epoch: 7  loss: tf.Tensor(6.339048, shape=(), dtype=float32)\n",
      "epoch: 8  loss: tf.Tensor(6.3388925, shape=(), dtype=float32)\n",
      "epoch: 9  loss: tf.Tensor(6.3360558, shape=(), dtype=float32)\n",
      "epoch: 10  loss: tf.Tensor(6.3330803, shape=(), dtype=float32)\n",
      "epoch: 11  loss: tf.Tensor(6.3302727, shape=(), dtype=float32)\n",
      "epoch: 12  loss: tf.Tensor(6.326312, shape=(), dtype=float32)\n",
      "epoch: 13  loss: tf.Tensor(6.3211823, shape=(), dtype=float32)\n",
      "epoch: 14  loss: tf.Tensor(6.3153396, shape=(), dtype=float32)\n",
      "epoch: 15  loss: tf.Tensor(6.3093104, shape=(), dtype=float32)\n",
      "epoch: 16  loss: tf.Tensor(6.30321, shape=(), dtype=float32)\n",
      "epoch: 17  loss: tf.Tensor(6.297239, shape=(), dtype=float32)\n",
      "epoch: 18  loss: tf.Tensor(6.291599, shape=(), dtype=float32)\n",
      "epoch: 19  loss: tf.Tensor(6.2865033, shape=(), dtype=float32)\n",
      "epoch: 20  loss: tf.Tensor(6.2820473, shape=(), dtype=float32)\n",
      "epoch: 21  loss: tf.Tensor(6.278247, shape=(), dtype=float32)\n",
      "epoch: 22  loss: tf.Tensor(6.2752357, shape=(), dtype=float32)\n",
      "epoch: 23  loss: tf.Tensor(6.273239, shape=(), dtype=float32)\n",
      "epoch: 24  loss: tf.Tensor(6.2722106, shape=(), dtype=float32)\n",
      "epoch: 25  loss: tf.Tensor(6.2717714, shape=(), dtype=float32)\n",
      "epoch: 26  loss: tf.Tensor(6.271593, shape=(), dtype=float32)\n",
      "epoch: 27  loss: tf.Tensor(6.2715154, shape=(), dtype=float32)\n",
      "epoch: 28  loss: tf.Tensor(6.2714763, shape=(), dtype=float32)\n",
      "epoch: 29  loss: tf.Tensor(6.271453, shape=(), dtype=float32)\n"
     ]
    }
   ],
   "source": [
    "for epoch in range(30):\n",
    "    current_loss = train(m_model, x_train_tensor, y_train_tensor, learning_rate = 0.1)\n",
    "    print(\"epoch:\", epoch, \" loss:\", current_loss)"
   ]
  },
  {
   "cell_type": "code",
   "execution_count": null,
   "metadata": {},
   "outputs": [],
   "source": []
  }
 ],
 "metadata": {
  "kernelspec": {
   "display_name": "tensorflow2",
   "language": "python",
   "name": "tensorflow2"
  },
  "language_info": {
   "codemirror_mode": {
    "name": "ipython",
    "version": 3
   },
   "file_extension": ".py",
   "mimetype": "text/x-python",
   "name": "python",
   "nbconvert_exporter": "python",
   "pygments_lexer": "ipython3",
   "version": "3.6.10"
  }
 },
 "nbformat": 4,
 "nbformat_minor": 2
}
