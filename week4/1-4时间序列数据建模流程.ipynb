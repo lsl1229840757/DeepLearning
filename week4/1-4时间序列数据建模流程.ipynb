{
 "cells": [
  {
   "cell_type": "markdown",
   "metadata": {},
   "source": [
    "# 1-4 时间序列数据建模流程\n",
    "对新冠人数进行预测"
   ]
  },
  {
   "cell_type": "code",
   "execution_count": 1,
   "metadata": {},
   "outputs": [],
   "source": [
    "import numpy as np\n",
    "import pandas as pd\n",
    "import tensorflow as tf\n",
    "from matplotlib import pyplot as plt\n",
    "from tensorflow.keras import models, layers, losses, metrics, callbacks"
   ]
  },
  {
   "cell_type": "markdown",
   "metadata": {},
   "source": [
    "## 1. 观测数据集"
   ]
  },
  {
   "cell_type": "code",
   "execution_count": 2,
   "metadata": {},
   "outputs": [
    {
     "data": {
      "text/html": [
       "<div>\n",
       "<style scoped>\n",
       "    .dataframe tbody tr th:only-of-type {\n",
       "        vertical-align: middle;\n",
       "    }\n",
       "\n",
       "    .dataframe tbody tr th {\n",
       "        vertical-align: top;\n",
       "    }\n",
       "\n",
       "    .dataframe thead th {\n",
       "        text-align: right;\n",
       "    }\n",
       "</style>\n",
       "<table border=\"1\" class=\"dataframe\">\n",
       "  <thead>\n",
       "    <tr style=\"text-align: right;\">\n",
       "      <th></th>\n",
       "      <th>date</th>\n",
       "      <th>confirmed_num</th>\n",
       "      <th>cured_num</th>\n",
       "      <th>dead_num</th>\n",
       "    </tr>\n",
       "  </thead>\n",
       "  <tbody>\n",
       "    <tr>\n",
       "      <th>0</th>\n",
       "      <td>2020-01-24</td>\n",
       "      <td>830.0</td>\n",
       "      <td>34.0</td>\n",
       "      <td>25.0</td>\n",
       "    </tr>\n",
       "    <tr>\n",
       "      <th>1</th>\n",
       "      <td>2020-01-25</td>\n",
       "      <td>1287.0</td>\n",
       "      <td>38.0</td>\n",
       "      <td>41.0</td>\n",
       "    </tr>\n",
       "    <tr>\n",
       "      <th>2</th>\n",
       "      <td>2020-01-26</td>\n",
       "      <td>1975.0</td>\n",
       "      <td>49.0</td>\n",
       "      <td>56.0</td>\n",
       "    </tr>\n",
       "    <tr>\n",
       "      <th>3</th>\n",
       "      <td>2020-01-27</td>\n",
       "      <td>2744.0</td>\n",
       "      <td>51.0</td>\n",
       "      <td>80.0</td>\n",
       "    </tr>\n",
       "    <tr>\n",
       "      <th>4</th>\n",
       "      <td>2020-01-28</td>\n",
       "      <td>4515.0</td>\n",
       "      <td>60.0</td>\n",
       "      <td>106.0</td>\n",
       "    </tr>\n",
       "  </tbody>\n",
       "</table>\n",
       "</div>"
      ],
      "text/plain": [
       "         date  confirmed_num  cured_num  dead_num\n",
       "0  2020-01-24          830.0       34.0      25.0\n",
       "1  2020-01-25         1287.0       38.0      41.0\n",
       "2  2020-01-26         1975.0       49.0      56.0\n",
       "3  2020-01-27         2744.0       51.0      80.0\n",
       "4  2020-01-28         4515.0       60.0     106.0"
      ]
     },
     "execution_count": 2,
     "metadata": {},
     "output_type": "execute_result"
    }
   ],
   "source": [
    "%matplotlib inline\n",
    "\n",
    "df = pd.read_csv('../data/covid-19.csv', sep = '\\t')\n",
    "df.head()"
   ]
  },
  {
   "cell_type": "code",
   "execution_count": 3,
   "metadata": {},
   "outputs": [
    {
     "data": {
      "text/plain": [
       "(array([-10.,   0.,  10.,  20.,  30.,  40.,  50.]),\n",
       " <a list of 7 Text major ticklabel objects>)"
      ]
     },
     "execution_count": 3,
     "metadata": {},
     "output_type": "execute_result"
    },
    {
     "data": {
      "image/png": "[encoded data removed]",
      "text/plain": [
       "<Figure size 432x288 with 1 Axes>"
      ]
     },
     "metadata": {
      "needs_background": "light"
     },
     "output_type": "display_data"
    }
   ],
   "source": [
    "# 绘制图像\n",
    "df.plot(x = \"date\", y = [\"confirmed_num\", \"cured_num\", \"dead_num\"])\n",
    "plt.xticks(rotation = 40)"
   ]
  },
  {
   "cell_type": "code",
   "execution_count": 4,
   "metadata": {},
   "outputs": [
    {
     "data": {
      "text/html": [
       "<div>\n",
       "<style scoped>\n",
       "    .dataframe tbody tr th:only-of-type {\n",
       "        vertical-align: middle;\n",
       "    }\n",
       "\n",
       "    .dataframe tbody tr th {\n",
       "        vertical-align: top;\n",
       "    }\n",
       "\n",
       "    .dataframe thead th {\n",
       "        text-align: right;\n",
       "    }\n",
       "</style>\n",
       "<table border=\"1\" class=\"dataframe\">\n",
       "  <thead>\n",
       "    <tr style=\"text-align: right;\">\n",
       "      <th></th>\n",
       "      <th>confirmed_num</th>\n",
       "      <th>cured_num</th>\n",
       "      <th>dead_num</th>\n",
       "    </tr>\n",
       "  </thead>\n",
       "  <tbody>\n",
       "    <tr>\n",
       "      <th>0</th>\n",
       "      <td>457.0</td>\n",
       "      <td>4.0</td>\n",
       "      <td>16.0</td>\n",
       "    </tr>\n",
       "    <tr>\n",
       "      <th>1</th>\n",
       "      <td>688.0</td>\n",
       "      <td>11.0</td>\n",
       "      <td>15.0</td>\n",
       "    </tr>\n",
       "    <tr>\n",
       "      <th>2</th>\n",
       "      <td>769.0</td>\n",
       "      <td>2.0</td>\n",
       "      <td>24.0</td>\n",
       "    </tr>\n",
       "    <tr>\n",
       "      <th>3</th>\n",
       "      <td>1771.0</td>\n",
       "      <td>9.0</td>\n",
       "      <td>26.0</td>\n",
       "    </tr>\n",
       "    <tr>\n",
       "      <th>4</th>\n",
       "      <td>1459.0</td>\n",
       "      <td>43.0</td>\n",
       "      <td>26.0</td>\n",
       "    </tr>\n",
       "  </tbody>\n",
       "</table>\n",
       "</div>"
      ],
      "text/plain": [
       "   confirmed_num  cured_num  dead_num\n",
       "0          457.0        4.0      16.0\n",
       "1          688.0       11.0      15.0\n",
       "2          769.0        2.0      24.0\n",
       "3         1771.0        9.0      26.0\n",
       "4         1459.0       43.0      26.0"
      ]
     },
     "execution_count": 4,
     "metadata": {},
     "output_type": "execute_result"
    },
    {
     "data": {
      "image/png": "[encoded data removed]",
      "text/plain": [
       "<Figure size 432x288 with 1 Axes>"
      ]
     },
     "metadata": {
      "needs_background": "light"
     },
     "output_type": "display_data"
    }
   ],
   "source": [
    "# 观测时间序列的差分数据\n",
    "dfdata = df.set_index(\"date\")\n",
    "dfdiff = dfdata.diff(periods=1).dropna()  # 避免差分掉date\n",
    "dfdiff = dfdiff.reset_index(\"date\")  # 将date列还原回来\n",
    "dfdiff.plot(x = \"date\", y = [\"confirmed_num\", \"cured_num\", \"dead_num\"])\n",
    "\n",
    "dfdiff = dfdiff.drop(\"date\", axis = 1).astype(\"float32\")\n",
    "dfdiff.head()"
   ]
  },
  {
   "cell_type": "markdown",
   "metadata": {},
   "source": [
    "## 2 构建数据集"
   ]
  },
  {
   "cell_type": "code",
   "execution_count": 5,
   "metadata": {},
   "outputs": [
    {
     "name": "stdout",
     "output_type": "stream",
     "text": [
      "tf.Tensor([2589.   69.   61.], shape=(3,), dtype=float32)\n",
      "tf.Tensor([2825.  147.   57.], shape=(3,), dtype=float32)\n",
      "tf.Tensor([3233.  157.   64.], shape=(3,), dtype=float32)\n"
     ]
    }
   ],
   "source": [
    "window_size = 8\n",
    "\n",
    "def batch_dataset(dataset):\n",
    "    dataset_batched = dataset.batch(window_size, drop_remainder = True)  # 丢掉最后一个小于windows_size的batch\n",
    "    return dataset_batched\n",
    "\n",
    "ds_data = tf.data.Dataset.from_tensor_slices(tf.constant(dfdiff.values, dtype = tf.float32)).window(window_size, shift = 1).flat_map(batch_dataset)\n",
    "ds_label = tf.data.Dataset.from_tensor_slices(tf.constant(dfdiff.values[window_size:], dtype = tf.float32))\n",
    "\n",
    "for data in ds_label.take(3):\n",
    "    print(data)"
   ]
  },
  {
   "cell_type": "code",
   "execution_count": 6,
   "metadata": {},
   "outputs": [
    {
     "name": "stdout",
     "output_type": "stream",
     "text": [
      "(<tf.Tensor: shape=(8, 3), dtype=float32, numpy=\n",
      "array([[4.570e+02, 4.000e+00, 1.600e+01],\n",
      "       [6.880e+02, 1.100e+01, 1.500e+01],\n",
      "       [7.690e+02, 2.000e+00, 2.400e+01],\n",
      "       [1.771e+03, 9.000e+00, 2.600e+01],\n",
      "       [1.459e+03, 4.300e+01, 2.600e+01],\n",
      "       [1.737e+03, 2.100e+01, 3.800e+01],\n",
      "       [1.981e+03, 4.700e+01, 4.300e+01],\n",
      "       [2.099e+03, 8.800e+01, 3.000e+01]], dtype=float32)>, <tf.Tensor: shape=(3,), dtype=float32, numpy=array([2589.,   69.,   61.], dtype=float32)>)\n"
     ]
    }
   ],
   "source": [
    "ds_train = tf.data.Dataset.zip((ds_data, ds_label)).batch(64).cache()  # 把x和y压缩到一起去\n",
    "for d in ds_train.unbatch().take(1):\n",
    "    print(d)"
   ]
  },
  {
   "cell_type": "markdown",
   "metadata": {},
   "source": [
    "## 3 构建模型\n",
    "用Keras较为简单, 不用类进行封装"
   ]
  },
  {
   "cell_type": "code",
   "execution_count": 10,
   "metadata": {},
   "outputs": [
    {
     "name": "stdout",
     "output_type": "stream",
     "text": [
      "Model: \"model\"\n",
      "_________________________________________________________________\n",
      "Layer (type)                 Output Shape              Param #   \n",
      "=================================================================\n",
      "input_1 (InputLayer)         [(None, None, 3)]         0         \n",
      "_________________________________________________________________\n",
      "lstm (LSTM)                  (None, None, 3)           84        \n",
      "_________________________________________________________________\n",
      "lstm_1 (LSTM)                (None, None, 3)           84        \n",
      "_________________________________________________________________\n",
      "lstm_2 (LSTM)                (None, None, 3)           84        \n",
      "_________________________________________________________________\n",
      "lstm_3 (LSTM)                (None, 3)                 84        \n",
      "_________________________________________________________________\n",
      "dense (Dense)                (None, 3)                 12        \n",
      "=================================================================\n",
      "Total params: 348\n",
      "Trainable params: 348\n",
      "Non-trainable params: 0\n",
      "_________________________________________________________________\n"
     ]
    }
   ],
   "source": [
    "tf.keras.backend.clear_session()\n",
    "x_input = layers.Input(shape = (None, 3), dtype = tf.float32)\n",
    "x = layers.LSTM(3, return_sequences = True)(x_input)\n",
    "x = layers.LSTM(3, return_sequences = True)(x)\n",
    "x = layers.LSTM(3, return_sequences = True)(x)\n",
    "x = layers.LSTM(3)(x)\n",
    "x_output = layers.Dense(3)(x)\n",
    "model = tf.keras.Model(inputs = [x_input], outputs = [x_output])\n",
    "model.summary()"
   ]
  },
  {
   "cell_type": "markdown",
   "metadata": {},
   "source": [
    "### 4 训练模型"
   ]
  },
  {
   "cell_type": "code",
   "execution_count": 11,
   "metadata": {},
   "outputs": [
    {
     "name": "stdout",
     "output_type": "stream",
     "text": [
      "Epoch 1/60\n",
      "1/1 - 0s - loss: 1.0004 - lr: 0.0100\n",
      "Epoch 2/60\n",
      "WARNING:tensorflow:Method (on_train_batch_end) is slow compared to the batch update (0.146516). Check your callbacks.\n",
      "1/1 - 0s - loss: 0.9995 - lr: 0.0100\n",
      "Epoch 3/60\n",
      "1/1 - 0s - loss: 0.9993 - lr: 0.0100\n",
      "Epoch 4/60\n",
      "1/1 - 0s - loss: 0.9982 - lr: 0.0100\n",
      "Epoch 5/60\n",
      "1/1 - 0s - loss: 0.9973 - lr: 0.0100\n",
      "Epoch 6/60\n",
      "1/1 - 0s - loss: 0.9965 - lr: 0.0100\n",
      "Epoch 7/60\n",
      "1/1 - 0s - loss: 0.9955 - lr: 0.0100\n",
      "Epoch 8/60\n",
      "1/1 - 0s - loss: 0.9945 - lr: 0.0100\n",
      "Epoch 9/60\n",
      "1/1 - 0s - loss: 0.9933 - lr: 0.0100\n",
      "Epoch 10/60\n",
      "1/1 - 0s - loss: 0.9918 - lr: 0.0100\n",
      "Epoch 11/60\n",
      "1/1 - 0s - loss: 0.9904 - lr: 0.0100\n",
      "Epoch 12/60\n",
      "1/1 - 0s - loss: 0.9888 - lr: 0.0100\n",
      "Epoch 13/60\n",
      "1/1 - 0s - loss: 0.9872 - lr: 0.0100\n",
      "Epoch 14/60\n",
      "1/1 - 0s - loss: 0.9855 - lr: 0.0100\n",
      "Epoch 15/60\n",
      "1/1 - 0s - loss: 0.9838 - lr: 0.0100\n",
      "Epoch 16/60\n",
      "1/1 - 0s - loss: 0.9822 - lr: 0.0100\n",
      "Epoch 17/60\n",
      "1/1 - 0s - loss: 0.9805 - lr: 0.0100\n",
      "Epoch 18/60\n",
      "1/1 - 0s - loss: 0.9789 - lr: 0.0100\n",
      "Epoch 19/60\n",
      "1/1 - 0s - loss: 0.9773 - lr: 0.0100\n",
      "Epoch 20/60\n",
      "1/1 - 0s - loss: 0.9758 - lr: 0.0100\n",
      "Epoch 21/60\n",
      "1/1 - 0s - loss: 0.9743 - lr: 0.0100\n",
      "Epoch 22/60\n",
      "1/1 - 0s - loss: 0.9729 - lr: 0.0100\n",
      "Epoch 23/60\n",
      "1/1 - 0s - loss: 0.9715 - lr: 0.0100\n",
      "Epoch 24/60\n",
      "1/1 - 0s - loss: 0.9701 - lr: 0.0100\n",
      "Epoch 25/60\n",
      "1/1 - 0s - loss: 0.9688 - lr: 0.0100\n",
      "Epoch 26/60\n",
      "1/1 - 0s - loss: 0.9675 - lr: 0.0100\n",
      "Epoch 27/60\n",
      "1/1 - 0s - loss: 0.9662 - lr: 0.0100\n",
      "Epoch 28/60\n",
      "1/1 - 0s - loss: 0.9650 - lr: 0.0100\n",
      "Epoch 29/60\n",
      "1/1 - 0s - loss: 0.9638 - lr: 0.0100\n",
      "Epoch 30/60\n",
      "1/1 - 0s - loss: 0.9626 - lr: 0.0100\n",
      "Epoch 31/60\n",
      "1/1 - 0s - loss: 0.9614 - lr: 0.0100\n",
      "Epoch 32/60\n",
      "1/1 - 0s - loss: 0.9603 - lr: 0.0100\n",
      "Epoch 33/60\n",
      "1/1 - 0s - loss: 0.9592 - lr: 0.0100\n",
      "Epoch 34/60\n",
      "1/1 - 0s - loss: 0.9581 - lr: 0.0100\n",
      "Epoch 35/60\n",
      "1/1 - 0s - loss: 0.9570 - lr: 0.0100\n",
      "Epoch 36/60\n",
      "1/1 - 0s - loss: 0.9559 - lr: 0.0100\n",
      "Epoch 37/60\n",
      "1/1 - 0s - loss: 0.9549 - lr: 0.0100\n",
      "Epoch 38/60\n",
      "1/1 - 0s - loss: 0.9539 - lr: 0.0100\n",
      "Epoch 39/60\n",
      "1/1 - 0s - loss: 0.9529 - lr: 0.0100\n",
      "Epoch 40/60\n",
      "1/1 - 0s - loss: 0.9519 - lr: 0.0100\n",
      "Epoch 41/60\n",
      "1/1 - 0s - loss: 0.9509 - lr: 0.0100\n",
      "Epoch 42/60\n",
      "1/1 - 0s - loss: 0.9500 - lr: 0.0100\n",
      "Epoch 43/60\n",
      "1/1 - 0s - loss: 0.9490 - lr: 0.0100\n",
      "Epoch 44/60\n",
      "1/1 - 0s - loss: 0.9481 - lr: 0.0100\n",
      "Epoch 45/60\n",
      "1/1 - 0s - loss: 0.9472 - lr: 0.0100\n",
      "Epoch 46/60\n",
      "1/1 - 0s - loss: 0.9463 - lr: 0.0100\n",
      "Epoch 47/60\n",
      "1/1 - 0s - loss: 0.9454 - lr: 0.0100\n",
      "Epoch 48/60\n",
      "1/1 - 0s - loss: 0.9446 - lr: 0.0100\n",
      "Epoch 49/60\n",
      "1/1 - 0s - loss: 0.9437 - lr: 0.0100\n",
      "Epoch 50/60\n",
      "1/1 - 0s - loss: 0.9429 - lr: 0.0100\n",
      "Epoch 51/60\n",
      "1/1 - 0s - loss: 0.9420 - lr: 0.0100\n",
      "Epoch 52/60\n",
      "1/1 - 0s - loss: 0.9412 - lr: 0.0100\n",
      "Epoch 53/60\n",
      "1/1 - 0s - loss: 0.9404 - lr: 0.0100\n",
      "Epoch 54/60\n",
      "1/1 - 0s - loss: 0.9396 - lr: 0.0100\n",
      "Epoch 55/60\n",
      "1/1 - 0s - loss: 0.9388 - lr: 0.0100\n",
      "Epoch 56/60\n",
      "1/1 - 0s - loss: 0.9380 - lr: 0.0100\n",
      "Epoch 57/60\n",
      "1/1 - 0s - loss: 0.9372 - lr: 0.0100\n",
      "Epoch 58/60\n",
      "1/1 - 0s - loss: 0.9364 - lr: 0.0100\n",
      "Epoch 59/60\n",
      "1/1 - 0s - loss: 0.9356 - lr: 0.0100\n",
      "Epoch 60/60\n",
      "1/1 - 0s - loss: 0.9349 - lr: 0.0100\n"
     ]
    }
   ],
   "source": [
    "# 自定义损失函数\n",
    "class MSPE(losses.Loss):\n",
    "    def call(self, y_true, y_pred):\n",
    "        err_percent = (y_true - y_pred)**2 / tf.maximum(y_true**2, 1e-7)\n",
    "        return tf.reduce_mean(err_percent)\n",
    "\n",
    "# 开始训练\n",
    "opt = tf.keras.optimizers.Adam(learning_rate=0.01)\n",
    "model.compile(optimizer = opt, loss = MSPE())\n",
    "\n",
    "# 使用tensorboard\n",
    "logdir = './1-3_keras_model_log'\n",
    "tb_callback = tf.keras.callbacks.TensorBoard(logdir, histogram_freq = 1)\n",
    "# 如果在20个epoch后没有提升, 学习率减半\n",
    "lr_callback = tf.keras.callbacks.ReduceLROnPlateau(monitor = \"loss\", factor = 0.5, patience = 20)\n",
    "# 如果40个epoch后没有提升, 就停止训练\n",
    "stop_callback = tf.keras.callbacks.EarlyStopping(monitor = \"loss\", patience = 40)\n",
    "callbacks_list = [tb_callback, lr_callback, stop_callback]\n",
    "history = model.fit(ds_train, epochs = 60, callbacks = callbacks_list, verbose = 2)"
   ]
  },
  {
   "cell_type": "code",
   "execution_count": null,
   "metadata": {},
   "outputs": [],
   "source": []
  }
 ],
 "metadata": {
  "kernelspec": {
   "display_name": "tensorflow2",
   "language": "python",
   "name": "tensorflow2"
  },
  "language_info": {
   "codemirror_mode": {
    "name": "ipython",
    "version": 3
   },
   "file_extension": ".py",
   "mimetype": "text/x-python",
   "name": "python",
   "nbconvert_exporter": "python",
   "pygments_lexer": "ipython3",
   "version": "3.6.10"
  }
 },
 "nbformat": 4,
 "nbformat_minor": 2
}
